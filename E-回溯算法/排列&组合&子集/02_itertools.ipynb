{
 "cells": [
  {
   "cell_type": "code",
   "execution_count": 1,
   "metadata": {
    "collapsed": true
   },
   "outputs": [],
   "source": [
    "from IPython.core.interactiveshell import InteractiveShell\n",
    "InteractiveShell.ast_node_interactivity = 'all'"
   ]
  },
  {
   "cell_type": "markdown",
   "source": [
    "> 官方文档：https://docs.python.org/zh-cn/3.9/library/itertools.html?highlight=itertools\n",
    "> 源代码：https://github.com/python/cpython/blob/main/Modules/itertoolsmodule.c\n"
   ],
   "metadata": {
    "collapsed": false
   }
  },
  {
   "cell_type": "markdown",
   "source": [
    "# itertools --- 为高效循环而创建迭代器的函数\n",
    "\n",
    "本模块实现一系列 iterator ，这些迭代器受到APL，Haskell和SML的启发。为了适用于Python，它们都被重新写过。\n",
    "\n",
    "本模块标准化了一个快速、高效利用内存的核心工具集，这些工具本身或组合都很有用。它们一起形成了“迭代器代数”，这使得在纯Python中有可能创建简洁又高效的专用工具。"
   ],
   "metadata": {
    "collapsed": false
   }
  },
  {
   "cell_type": "markdown",
   "source": [
    "# 排列"
   ],
   "metadata": {
    "collapsed": false
   }
  },
  {
   "cell_type": "code",
   "execution_count": 5,
   "outputs": [
    {
     "data": {
      "text/plain": "[(1, 2), (1, 3), (2, 1), (2, 3), (3, 1), (3, 2)]"
     },
     "execution_count": 5,
     "metadata": {},
     "output_type": "execute_result"
    }
   ],
   "source": [
    "import itertools\n",
    "\n",
    "non_repetition = [1,2,3]\n",
    "list(itertools.permutations(non_repetition, 2))\n",
    "# [(1, 2), (1, 3), (2, 1), (2, 3), (3, 1), (3, 2)]"
   ],
   "metadata": {
    "collapsed": false
   }
  },
  {
   "cell_type": "markdown",
   "source": [
    "# 组合"
   ],
   "metadata": {
    "collapsed": false
   }
  },
  {
   "cell_type": "code",
   "execution_count": 11,
   "outputs": [
    {
     "data": {
      "text/plain": "[(1, 2), (1, 3), (2, 3)]"
     },
     "execution_count": 11,
     "metadata": {},
     "output_type": "execute_result"
    },
    {
     "data": {
      "text/plain": "[(1, 1), (1, 2), (1, 3), (2, 2), (2, 3), (3, 3)]"
     },
     "execution_count": 11,
     "metadata": {},
     "output_type": "execute_result"
    }
   ],
   "source": [
    "lst = [1, 2, 3]\n",
    "\n",
    "list(itertools.combinations(lst, 2))\n",
    "# [(1, 2), (1, 3), (2, 3)]\n",
    "list(itertools.combinations_with_replacement(lst, 2))\n",
    "# [(1, 1), (1, 2), (1, 3), (2, 2), (2, 3), (3, 3)]\n"
   ],
   "metadata": {
    "collapsed": false
   }
  },
  {
   "cell_type": "markdown",
   "source": [
    "# 所有子集"
   ],
   "metadata": {
    "collapsed": false
   }
  },
  {
   "cell_type": "code",
   "execution_count": 14,
   "outputs": [
    {
     "data": {
      "text/plain": "[(), (1,), (2,), (3,), (1, 2), (1, 3), (2, 3), (1, 2, 3)]"
     },
     "execution_count": 14,
     "metadata": {},
     "output_type": "execute_result"
    }
   ],
   "source": [
    "res = []\n",
    "nums = [1,2,3]\n",
    "for i in range(len(nums) + 1):\n",
    "    for tmp in itertools.combinations(nums, i):\n",
    "        res.append(tmp)\n",
    "res\n",
    "# [(), (1,), (2,), (3,), (1, 2), (1, 3), (2, 3), (1, 2, 3)]"
   ],
   "metadata": {
    "collapsed": false
   }
  },
  {
   "cell_type": "markdown",
   "source": [
    "# 两个集合的笛卡尔集"
   ],
   "metadata": {
    "collapsed": false
   }
  },
  {
   "cell_type": "code",
   "execution_count": 15,
   "outputs": [
    {
     "data": {
      "text/plain": "[(1, 2), (1, 4), (3, 2), (3, 4)]"
     },
     "execution_count": 15,
     "metadata": {},
     "output_type": "execute_result"
    }
   ],
   "source": [
    "a = [1,3]\n",
    "b = [2,4]\n",
    "list(itertools.product(a,b))\n",
    "# [(1, 2), (1, 4), (3, 2), (3, 4)]"
   ],
   "metadata": {
    "collapsed": false
   }
  }
 ],
 "metadata": {
  "kernelspec": {
   "display_name": "Python 3",
   "language": "python",
   "name": "python3"
  },
  "language_info": {
   "codemirror_mode": {
    "name": "ipython",
    "version": 2
   },
   "file_extension": ".py",
   "mimetype": "text/x-python",
   "name": "python",
   "nbconvert_exporter": "python",
   "pygments_lexer": "ipython2",
   "version": "2.7.6"
  }
 },
 "nbformat": 4,
 "nbformat_minor": 0
}
