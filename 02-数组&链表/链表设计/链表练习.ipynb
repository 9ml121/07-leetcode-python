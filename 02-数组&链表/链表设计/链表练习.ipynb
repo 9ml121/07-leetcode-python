{
 "cells": [
  {
   "cell_type": "code",
   "execution_count": 37,
   "metadata": {
    "collapsed": true
   },
   "outputs": [],
   "source": [
    "from IPython.core.interactiveshell import InteractiveShell\n",
    "\n",
    "InteractiveShell.ast_node_interactivity = 'all'"
   ]
  },
  {
   "cell_type": "markdown",
   "source": [
    "# 创建列表"
   ],
   "metadata": {
    "collapsed": false
   }
  },
  {
   "cell_type": "code",
   "execution_count": 53,
   "outputs": [
    {
     "name": "stdout",
     "output_type": "stream",
     "text": [
      "1->2->3->4->5->None\n"
     ]
    }
   ],
   "source": [
    " # 创建链表\n",
    "class ListNode:\n",
    "    def __init__(self, val=0, next=None):\n",
    "        self.val = val\n",
    "        self.next = next\n",
    "head = ListNode(1)\n",
    "curr = head\n",
    "for i in range(2, 6):\n",
    "    curr.next = ListNode(i)\n",
    "    curr = curr.next\n",
    "\n",
    "# 打印链表\n",
    "curr = head\n",
    "output = \"\"\n",
    "while curr:\n",
    "    output += str(curr.val) + \"->\"\n",
    "    curr = curr.next\n",
    "output += \"None\"\n",
    "print(output)"
   ],
   "metadata": {
    "collapsed": false
   }
  },
  {
   "cell_type": "code",
   "execution_count": 55,
   "outputs": [
    {
     "name": "stdout",
     "output_type": "stream",
     "text": [
      "1 -> 2 -> 3 -> 4 -> None\n",
      "ListNode(1, ListNode(2, ListNode(3, ListNode(4, None))))\n"
     ]
    }
   ],
   "source": [
    "# 原始链表\n",
    "from myListNode import ListNode\n",
    "head = ListNode(nums=[1, 2, 3, 4])\n",
    "print(head)  # 1 -> 2 -> 3 -> None\n",
    "head.show()"
   ],
   "metadata": {
    "collapsed": false
   }
  },
  {
   "cell_type": "markdown",
   "source": [
    "# 1.插入操作"
   ],
   "metadata": {
    "collapsed": false
   }
  },
  {
   "cell_type": "code",
   "execution_count": 56,
   "outputs": [
    {
     "name": "stdout",
     "output_type": "stream",
     "text": [
      "1 -> 66 -> 2 -> 3 -> 4 -> None\n"
     ]
    }
   ],
   "source": [
    "# 1.在单链表第 pos个 位置插入结点(pos>=0)\n",
    "def insert_node(head, val, pos):\n",
    "    if not head:\n",
    "        return ListNode(val)\n",
    "    if pos == 0:\n",
    "        return ListNode(val, head)\n",
    "    curr = head\n",
    "    for i in range(pos - 1):\n",
    "        if not curr.next:\n",
    "            return head\n",
    "        curr = curr.next\n",
    "    curr.next = ListNode(val, curr.next)\n",
    "    return head\n",
    "\n",
    "head = ListNode(nums=[1, 2, 3, 4])\n",
    "node = insert_node(head, 66, 1)\n",
    "print(node)  # 1 -> 66 -> 2 -> 3 -> 4 -> None"
   ],
   "metadata": {
    "collapsed": false
   }
  },
  {
   "cell_type": "code",
   "execution_count": 58,
   "outputs": [
    {
     "name": "stdout",
     "output_type": "stream",
     "text": [
      "0 -> 1 -> 2 -> 3 -> 4 -> None\n"
     ]
    }
   ],
   "source": [
    "# 2. 在单链表 开头 添加结点\n",
    "def add_head(head, val):\n",
    "    return ListNode(val, head)\n",
    "\n",
    "head = ListNode(nums=[1, 2, 3, 4])\n",
    "node = add_head(head, 0)\n",
    "print(node)  # 0 -> 1 -> 2 -> 3 -> 4 -> None"
   ],
   "metadata": {
    "collapsed": false
   }
  },
  {
   "cell_type": "code",
   "execution_count": 59,
   "outputs": [
    {
     "name": "stdout",
     "output_type": "stream",
     "text": [
      "1 -> 2 -> 3 -> 4 -> 99 -> None\n"
     ]
    }
   ],
   "source": [
    "# 3.在单链表结尾添加结点\n",
    "def add_tail(head, val):\n",
    "    if not head:\n",
    "        return ListNode(val)\n",
    "    curr = head\n",
    "    while curr.next:\n",
    "        curr = curr.next\n",
    "    curr.next = ListNode(val)\n",
    "    return head\n",
    "head = ListNode(nums=[1, 2, 3, 4])\n",
    "node = add_tail(head, 99)\n",
    "print(node)"
   ],
   "metadata": {
    "collapsed": false
   }
  },
  {
   "cell_type": "markdown",
   "source": [
    "#  2.删除操作"
   ],
   "metadata": {
    "collapsed": false
   }
  },
  {
   "cell_type": "code",
   "execution_count": 52,
   "outputs": [
    {
     "name": "stdout",
     "output_type": "stream",
     "text": [
      "1 -> 3 -> 4 -> None\n"
     ]
    }
   ],
   "source": [
    "# 1.删除单链表中（随意）一个结点\n",
    "def delete_node(head, val):\n",
    "    if not head:\n",
    "        return None\n",
    "    if head.val == val:\n",
    "        return head.next\n",
    "    curr = head\n",
    "    while curr.next:\n",
    "        if curr.next.val == val:\n",
    "            curr.next = curr.next.next\n",
    "            return head\n",
    "        curr = curr.next\n",
    "    return head\n",
    "\n",
    "\n",
    "head = ListNode(nums=[1, 2, 3, 4])\n",
    "node = delete_node(head, 2)\n",
    "print(node)"
   ],
   "metadata": {
    "collapsed": false
   }
  },
  {
   "cell_type": "code",
   "execution_count": 48,
   "outputs": [
    {
     "name": "stdout",
     "output_type": "stream",
     "text": [
      "2 -> 3 -> None\n"
     ]
    }
   ],
   "source": [
    "# 2.删除单链表第一个结点\n",
    "def delete_first_node(head):\n",
    "    if not head:\n",
    "        return None\n",
    "    return head.next\n",
    "\n",
    "\n",
    "head = ListNode(nums=[1, 2, 3, 4])\n",
    "head = delete_first_node(head)\n",
    "print(head)  # 2 -> 3 -> None"
   ],
   "metadata": {
    "collapsed": false
   }
  },
  {
   "cell_type": "code",
   "execution_count": 46,
   "outputs": [
    {
     "name": "stdout",
     "output_type": "stream",
     "text": [
      "1 -> 2 -> None\n"
     ]
    }
   ],
   "source": [
    "# 3.删除单链表最后一个结点\n",
    "def delete_last_node(head):\n",
    "    if not head:\n",
    "        return None\n",
    "    if not head.next:\n",
    "        return None\n",
    "    curr = head\n",
    "    prev = None\n",
    "    while curr.next:\n",
    "        prev = curr\n",
    "        curr = curr.next\n",
    "    prev.next = None\n",
    "    return head\n",
    "\n",
    "\n",
    "head = ListNode(nums=[1, 2, 3, 4])\n",
    "head = delete_last_node(head)\n",
    "print(head)  # 1 -> 2 -> None"
   ],
   "metadata": {
    "collapsed": false
   }
  }
 ],
 "metadata": {
  "kernelspec": {
   "display_name": "Python 3",
   "language": "python",
   "name": "python3"
  },
  "language_info": {
   "codemirror_mode": {
    "name": "ipython",
    "version": 2
   },
   "file_extension": ".py",
   "mimetype": "text/x-python",
   "name": "python",
   "nbconvert_exporter": "python",
   "pygments_lexer": "ipython2",
   "version": "2.7.6"
  }
 },
 "nbformat": 4,
 "nbformat_minor": 0
}
