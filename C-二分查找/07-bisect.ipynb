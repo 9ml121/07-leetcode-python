{
 "cells": [
  {
   "cell_type": "code",
   "execution_count": 19,
   "metadata": {
    "collapsed": true
   },
   "outputs": [],
   "source": [
    "from IPython.core.interactiveshell import InteractiveShell\n",
    "\n",
    "InteractiveShell.ast_node_interactivity = 'all'"
   ]
  },
  {
   "cell_type": "markdown",
   "source": [
    "# bisect --- 数组二分查找算法\n",
    "> 官方文档\n",
    "https://docs.python.org/zh-cn/3.9/library/bisect.html"
   ],
   "metadata": {
    "collapsed": false
   }
  },
  {
   "cell_type": "markdown",
   "source": [
    "- 这个模块对**有序列表**提供了支持，使得他们可以在插入新数据仍然保持有序。\n",
    "- 对于长列表，如果其包含元素的比较操作十分昂贵的话，这可以是对更常见方法的改进。\n",
    "- 这个模块叫做 bisect 因为其使用了基本的二分（bisection）算法。\n",
    "- 源代码也可以作为很棒的算法示例（边界判断也做好啦！）"
   ],
   "metadata": {
    "collapsed": false
   }
  },
  {
   "cell_type": "markdown",
   "source": [
    "定义了以下函数：\n",
    "\n",
    "## bisect.bisect_left(a, x, lo=0, hi=len(a))\n",
    "在 a 中找到 x 合适的插入点以维持有序。\n",
    "- 参数 lo 和 hi 可以被用于确定需要考虑的子集；\n",
    "- 默认情况下整个列表都会被使用。\n",
    "- 如果 x 已经在 a 里存在，那么插入点会在已存在元素之前（也就是左边）。\n",
    "- 如果 a 是列表（list）的话，返回值是可以被放在 list.insert() 的第一个参数的。\n",
    "\n",
    "返回的插入点 i 可以将数组 a 分成两部分。\n",
    "1. 左侧是 all(val < x for val in a[lo:i]) ，\n",
    "2. 右侧是 all(val >= x for val in a[i:hi]) 。\n",
    "\n",
    "## bisect.bisect_right(a, x, lo=0, hi=len(a))\n",
    "\n",
    "## bisect.bisect(a, x, lo=0, hi=len(a))\n",
    "类似于 bisect_left()，但是返回的插入点是 a 中已存在元素 x 的右侧。\n",
    "等价于 bisect.bisect_right(a, x, lo=0, hi=len(a))\n",
    "\n",
    "返回的插入点 i 可以将数组 a 分成两部分。\n",
    "1. 左侧是 all(val <= x for val in a[lo:i])，\n",
    "2. 右侧是 all(val > x for val in a[i:hi]) for the right side。\n",
    "\n",
    "## bisect.insort_left(a, x, lo=0, hi=len(a))\n",
    "将 x 插入到一个有序序列 a 里，并维持其有序。\n",
    "- 如果 a 有序的话，这相当于 a.insert(bisect.bisect_left(a, x, lo, hi), x)。\n",
    "- 要注意搜索是 O(log n) 的，插入却是 O(n) 的。\n",
    "\n",
    "## bisect.insort_right(a, x, lo=0, hi=len(a))\n",
    "\n",
    "## bisect.insort(a, x, lo=0, hi=len(a))\n",
    "类似于 insort_left()，但是把 x 插入到 a 中已存在元素 x 的右侧。"
   ],
   "metadata": {
    "collapsed": false
   }
  },
  {
   "cell_type": "code",
   "execution_count": 9,
   "outputs": [
    {
     "name": "stdout",
     "output_type": "stream",
     "text": [
      "2\n",
      "0\n",
      "0\n",
      "5\n",
      "6\n"
     ]
    }
   ],
   "source": [
    "import bisect\n",
    "\n",
    "\"\"\"\n",
    "1.  bisect_left(a, x, lo=0, hi=len(a)) :\n",
    "返回将  x  插入到列表  a  中的索引位置 i ，以保持列表的升序。\n",
    "    # 如果  x  已经在列表  a  中，则返回  x  左侧的位置。\n",
    "    # lo  和  hi  是可选参数，用于指定搜索的范围。\n",
    "    #  默认情况下，整个列表都会被搜索。\n",
    "    # i 的结果区间为[0..len(a)]\n",
    "返回的插入点 i 可以将数组 a 分成两部分。\n",
    "    # 1. 左侧是 all(val < x for val in a[lo:i]) ，\n",
    "    # 2. 右侧是 all(val >= x for val in a[i:hi])\n",
    "\"\"\"\n",
    "\n",
    "a = [1, 3, 4, 4, 6, 8]\n",
    "print(bisect.bisect_left(a, 4))  # 输出 2\n",
    "print(bisect.bisect_left(a, 0))  # 输出 0\n",
    "print(bisect.bisect_left(a, 1))  # 输出 0\n",
    "print(bisect.bisect_left(a, 8))  # 输出 5\n",
    "print(bisect.bisect_left(a, 9))  # 输出 6"
   ],
   "metadata": {
    "collapsed": false
   }
  },
  {
   "cell_type": "code",
   "execution_count": 10,
   "outputs": [
    {
     "name": "stdout",
     "output_type": "stream",
     "text": [
      "4\n",
      "0\n",
      "1\n",
      "6\n",
      "6\n"
     ]
    }
   ],
   "source": [
    "import bisect\n",
    "\n",
    "\"\"\"\n",
    "2.bisect_right(a, x, lo=0, hi=len(a)) :\n",
    "# Create aliases\n",
    "bisect = bisect_right\n",
    "返回将  x  插入到列表  a  中的索引位置 i，以保持列表的升序。\n",
    "    # 如果  x  已经在列表  a  中，则返回  x  右侧的位置。\n",
    "    # lo  和  hi  是可选参数，用于指定搜索的范围。\n",
    "    # 默认情况下，整个列表都会被搜索。\n",
    "    # i 的结果区间为[0..len(a)]\n",
    "返回的插入点 i 可以将数组 a 分成两部分。\n",
    "    # 1. 左侧是 all(val <= x for val in a[lo:i]) ，\n",
    "    # 2. 右侧是 all(val > x for val in a[i:hi])\n",
    "\"\"\"\n",
    "\n",
    "a = [1, 3, 4, 4, 6, 8]\n",
    "print(bisect.bisect_right(a, 4))  # 输出 4\n",
    "print(bisect.bisect_right(a, 0))  # 输出 0\n",
    "print(bisect.bisect_right(a, 1))  # 输出 1\n",
    "print(bisect.bisect_right(a, 8))  # 输出 6\n",
    "print(bisect.bisect_right(a, 9))  # 输出 6"
   ],
   "metadata": {
    "collapsed": false
   }
  },
  {
   "cell_type": "code",
   "execution_count": 17,
   "outputs": [
    {
     "name": "stdout",
     "output_type": "stream",
     "text": [
      "4\n",
      "0\n",
      "1\n",
      "6\n",
      "6\n"
     ]
    }
   ],
   "source": [
    "import bisect\n",
    "\n",
    "\"\"\"\n",
    "5. bisect.bisect(a, x, lo=0, hi=len(a))\n",
    "等价于bisect_right\n",
    "\"\"\"\n",
    "\n",
    "a = [1, 3, 4, 4, 6, 8]\n",
    "print(bisect.bisect(a, 4))  # 输出 4\n",
    "print(bisect.bisect(a, 0))  # 输出 0\n",
    "print(bisect.bisect(a, 1))  # 输出 1\n",
    "print(bisect.bisect(a, 8))  # 输出 6\n",
    "print(bisect.bisect(a, 9))  # 输出 6"
   ],
   "metadata": {
    "collapsed": false
   }
  },
  {
   "cell_type": "code",
   "execution_count": 19,
   "outputs": [
    {
     "name": "stdout",
     "output_type": "stream",
     "text": [
      "4\n",
      "4\n",
      "2\n"
     ]
    }
   ],
   "source": [
    "# bisect和 bisect_left和 bisect_right的区别\n",
    "import bisect\n",
    "\n",
    "a = [1, 2, 3, 3, 4, 5]\n",
    "print(bisect.bisect(a, 3))  # 输出 4\n",
    "print(bisect.bisect_right(a, 3))  # 输出 4\n",
    "print(bisect.bisect_left(a, 3))  # 输出 2"
   ],
   "metadata": {
    "collapsed": false
   }
  },
  {
   "cell_type": "code",
   "execution_count": 5,
   "outputs": [
    {
     "name": "stdout",
     "output_type": "stream",
     "text": [
      "[1, 3, 4, 4, 5, 6, 8]\n"
     ]
    }
   ],
   "source": [
    "import bisect\n",
    "\n",
    "# 3.  insort_left(a, x, lo=0, hi=len(a)) :\n",
    "# 将元素  x  插入到列表  a  中的正确位置，以保持列表的升序。\n",
    "# 如果  x  已经在列表  a  中，则将其插入到  x  左侧。\n",
    "#  示例：\n",
    "a = [1, 3, 4, 4, 6, 8]\n",
    "x = 5\n",
    "bisect.insort_left(a, x)\n",
    "print(a)  # 输出 [1, 3, 4, 4, 5, 6, 8]"
   ],
   "metadata": {
    "collapsed": false
   }
  },
  {
   "cell_type": "code",
   "execution_count": 9,
   "outputs": [
    {
     "name": "stdout",
     "output_type": "stream",
     "text": [
      "[1, 3, 4, 4, 5, 6, 8]\n"
     ]
    }
   ],
   "source": [
    "# 4.  insort_right(a, x, lo=0, hi=len(a)) :\n",
    "# 将元素  x  插入到列表  a  中的正确位置，以保持列表的升序。\n",
    "# 如果  x  已经在列表  a  中，则将其插入到  x  右侧。\n",
    "#  示例：\n",
    "import bisect\n",
    "\n",
    "a = [1, 3, 4, 4, 6, 8]\n",
    "x = 5\n",
    "bisect.insort_right(a, x)\n",
    "print(a)  # 输出 [1, 3, 4, 4, 5, 6, 8]"
   ],
   "metadata": {
    "collapsed": false
   }
  },
  {
   "cell_type": "code",
   "execution_count": null,
   "outputs": [],
   "source": [
    "# Create aliases\n",
    "# insort = insort_right"
   ],
   "metadata": {
    "collapsed": false
   }
  },
  {
   "cell_type": "markdown",
   "source": [
    "# 搜索有序列表\n",
    "上面的 bisect() 函数对于找到插入点是有用的，但在一般的搜索任务中可能会有点尴尬。\n",
    "\n",
    "下面 5 个函数展示了如何将其转变成有序列表中的标准查找函数"
   ],
   "metadata": {
    "collapsed": false
   }
  },
  {
   "cell_type": "code",
   "execution_count": 12,
   "outputs": [],
   "source": [
    "from bisect import bisect_left, bisect_right\n",
    "\n",
    "\n",
    "def index(a, x):\n",
    "    'Locate the leftmost value exactly equal to x'\n",
    "    i = bisect_left(a, x)  # i的取值区间[0..len(a)]\n",
    "    if i != len(a) and a[i] == x:\n",
    "        return i\n",
    "    raise ValueError\n",
    "\n",
    "\n",
    "def find_lt(a, x):\n",
    "    'Find rightmost value less than x'\n",
    "    i = bisect_left(a, x)\n",
    "    if i:\n",
    "        return a[i - 1]\n",
    "    raise ValueError\n",
    "\n",
    "\n",
    "def find_le(a, x):\n",
    "    'Find rightmost value less than or equal to x'\n",
    "    i = bisect_right(a, x)\n",
    "    if i:\n",
    "        return a[i - 1]\n",
    "    raise ValueError\n",
    "\n",
    "\n",
    "def find_gt(a, x):\n",
    "    'Find leftmost value greater than x'\n",
    "    i = bisect_right(a, x)\n",
    "    if i != len(a):\n",
    "        return a[i]\n",
    "    raise ValueError\n",
    "\n",
    "\n",
    "def find_ge(a, x):\n",
    "    'Find leftmost item greater than or equal to x'\n",
    "    i = bisect_left(a, x)\n",
    "    if i != len(a):\n",
    "        return a[i]\n",
    "    raise ValueError"
   ],
   "metadata": {
    "collapsed": false
   }
  },
  {
   "cell_type": "markdown",
   "source": [
    "# 其他示例\n",
    "函数 bisect() 还可以用于数字表查询。\n",
    "\n",
    "这个例子是使用 bisect() 从一个给定的考试成绩集合里，通过一个有序数字表，查出其对应的字母等级：\n",
    "- 90 分及以上是 'A'，\n",
    "- 80 到 89 是 'B'，\n",
    "- 70 到 79 是 'C'，\n",
    "- 60 到 69 是 'D'，\n",
    "- 以60 为准。\n",
    "- 以此类推"
   ],
   "metadata": {
    "collapsed": false
   }
  },
  {
   "cell_type": "code",
   "execution_count": 21,
   "outputs": [
    {
     "data": {
      "text/plain": "['F', 'A', 'C', 'C', 'B', 'A', 'A']"
     },
     "execution_count": 21,
     "metadata": {},
     "output_type": "execute_result"
    }
   ],
   "source": [
    "# bisect.bisect()返回的插入点 i 可以将数组 a 分成两部分。\n",
    "# 左侧是 all(val <= x for val in a[lo:i])，\n",
    "# 右侧是 all(val > x for val in a[i:hi]) for the right side。\n",
    "from bisect import bisect\n",
    "\n",
    "\n",
    "def grade(score, breakpoints=[60, 70, 80, 90], grades='FDCBA'):\n",
    "    i = bisect(breakpoints, score)\n",
    "    return grades[i]\n",
    "\n",
    "\n",
    "[grade(score) for score in [33, 99, 77, 70, 89, 90, 100]]  # ['F', 'A', 'C', 'C', 'B', 'A', 'A']"
   ],
   "metadata": {
    "collapsed": false
   }
  },
  {
   "cell_type": "markdown",
   "source": [
    "与 sorted() 函数不同，对于 bisect() 函数来说，key 或者 reversed 参数并没有什么意义。因为这会导致设计效率低下（连续调用 bisect 函数时，是不会 \"记住\" 过去查找过的键的）。\n",
    "\n",
    "正相反，最好去搜索预先计算好的键列表，来查找相关记录的索引。"
   ],
   "metadata": {
    "collapsed": false
   }
  },
  {
   "cell_type": "code",
   "execution_count": 1,
   "outputs": [
    {
     "data": {
      "text/plain": "('yellow', 8)"
     },
     "execution_count": 1,
     "metadata": {},
     "output_type": "execute_result"
    }
   ],
   "source": [
    "from bisect import bisect_left, bisect_right\n",
    "\n",
    "data = [('red', 5), ('blue', 1), ('yellow', 8), ('black', 0)]\n",
    "data.sort(key=lambda r: r[1])\n",
    "keys = [r[1] for r in data]  # precomputed list of keys\n",
    "\n",
    "data[bisect_left(keys, 0)]  #  ('black', 0)\n",
    "\n",
    "data[bisect_left(keys, 1)]  #  ('blue', 1)\n",
    "\n",
    "data[bisect_left(keys, 5)]  # ('red', 5)\n",
    "\n",
    "data[bisect_left(keys, 8)]  # ('yellow', 8)"
   ],
   "metadata": {
    "collapsed": false
   }
  },
  {
   "cell_type": "markdown",
   "source": [
    "# SortedCollection recipe\n",
    "使用 bisect 构造了一个功能完整的集合类，提供了直接的搜索方法和对用于搜索的 key 方法的支持。\n",
    "\n",
    "所有用于搜索的键都是预先计算的，以避免在搜索时对 key 方法的不必要调用。"
   ],
   "metadata": {
    "collapsed": false
   }
  },
  {
   "cell_type": "code",
   "execution_count": 4,
   "outputs": [
    {
     "ename": "ModuleNotFoundError",
     "evalue": "No module named 'sortedcollection'",
     "output_type": "error",
     "traceback": [
      "\u001B[0;31m---------------------------------------------------------------------------\u001B[0m",
      "\u001B[0;31mModuleNotFoundError\u001B[0m                       Traceback (most recent call last)",
      "Input \u001B[0;32mIn [4]\u001B[0m, in \u001B[0;36m<cell line: 2>\u001B[0;34m()\u001B[0m\n\u001B[1;32m      1\u001B[0m \u001B[38;5;28;01mimport\u001B[39;00m \u001B[38;5;21;01mbisect\u001B[39;00m\n\u001B[0;32m----> 2\u001B[0m \u001B[38;5;28;01mfrom\u001B[39;00m \u001B[38;5;21;01msortedcollection\u001B[39;00m \u001B[38;5;28;01mimport\u001B[39;00m SortedCollection\n\u001B[1;32m      4\u001B[0m \u001B[38;5;66;03m# 创建一个空的SortedCollection\u001B[39;00m\n\u001B[1;32m      5\u001B[0m sc \u001B[38;5;241m=\u001B[39m SortedCollection()\n",
      "\u001B[0;31mModuleNotFoundError\u001B[0m: No module named 'sortedcollection'"
     ]
    }
   ],
   "source": [
    "import bisect\n",
    "from sortedcollection import SortedCollection\n",
    "\n",
    "# 创建一个空的SortedCollection\n",
    "sc = SortedCollection()\n",
    "# 添加元素\n",
    "sc.insert(5)\n",
    "sc.insert(3)\n",
    "sc.insert(7)\n",
    "# 打印SortedCollection\n",
    "print(sc)  # SortedCollection([3, 5, 7], key=None)\n",
    "# 使用索引访问元素\n",
    "print(sc[0])  # 3\n",
    "print(sc[-1])  # 7\n",
    "# 删除元素\n",
    "sc.remove(3)\n",
    "# 打印SortedCollection\n",
    "print(sc)  # SortedCollection([5, 7], key=None)\n",
    "# 迭代SortedCollection\n",
    "for item in sc:\n",
    "    print(item)  # 5 7\n",
    "# 使用key函数进行排序\n",
    "key_fn = lambda x: -x\n",
    "sc = SortedCollection([1, 2, 3, 4, 5], key=key_fn)\n",
    "print(sc)  # SortedCollection([5, 4, 3, 2, 1], key=<lambda>)\n"
   ],
   "metadata": {
    "collapsed": false
   }
  }
 ],
 "metadata": {
  "kernelspec": {
   "display_name": "Python 3",
   "language": "python",
   "name": "python3"
  },
  "language_info": {
   "codemirror_mode": {
    "name": "ipython",
    "version": 2
   },
   "file_extension": ".py",
   "mimetype": "text/x-python",
   "name": "python",
   "nbconvert_exporter": "python",
   "pygments_lexer": "ipython2",
   "version": "2.7.6"
  }
 },
 "nbformat": 4,
 "nbformat_minor": 0
}
