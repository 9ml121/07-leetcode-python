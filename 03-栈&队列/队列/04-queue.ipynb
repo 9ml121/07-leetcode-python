{
 "cells": [
  {
   "cell_type": "code",
   "execution_count": 9,
   "metadata": {
    "collapsed": true
   },
   "outputs": [],
   "source": [
    "from IPython.core.interactiveshell import InteractiveShell\n",
    "\n",
    "InteractiveShell.ast_node_interactivity = 'all'"
   ]
  },
  {
   "cell_type": "markdown",
   "source": [
    "> 官方文档： https://docs.python.org/3.9/library/queue.html#module-queue"
   ],
   "metadata": {
    "collapsed": false
   }
  },
  {
   "cell_type": "markdown",
   "source": [
    "# Queue 对象\n",
    "队列对象 (Queue, LifoQueue, 或者 PriorityQueue) 提供下列描述的公共方法。\n",
    "\n",
    "- Queue.qsize()\n",
    "返回队列的大致大小。注意，qsize() > 0 不保证后续的 get() 不被阻塞，qsize() < maxsize 也不保证 put() 不被阻塞。\n",
    "\n",
    "- Queue.empty()\n",
    "如果队列为空，返回 True ，否则返回 False 。如果 empty() 返回 True ，不保证后续调用的 put() 不被阻塞。类似的，如果 empty() 返回 False ，也不保证后续调用的 get() 不被阻塞。\n",
    "\n",
    "- Queue.put(item, block=True, timeout=None)\n",
    "将 item 放入队列。\n",
    "\n",
    "- Queue.get(block=True, timeout=None)\n",
    "从队列中移除并返回一个项目\n",
    "\n",
    "- Queue.join()\n",
    "阻塞至队列中所有的元素都被接收和处理完毕。\n",
    "\n",
    "- Queue.task_done()\n",
    "表示前面排队的任务已经被完成。被队列的消费者线程使用。每个 get() 被用于获取一个任务， 后续调用 task_done() 告诉队列，该任务的处理已经完成。"
   ],
   "metadata": {
    "collapsed": false
   }
  },
  {
   "cell_type": "code",
   "execution_count": 21,
   "outputs": [
    {
     "name": "stdout",
     "output_type": "stream",
     "text": [
      "All task requests sent\n",
      "Working on 0\n",
      "Finished 0\n",
      "Working on 1\n",
      "Finished 1\n",
      "Working on 2\n",
      "Finished 2\n",
      "Working on 3\n",
      "Finished 3\n",
      "Working on 4\n",
      "Finished 4\n",
      "All work completed\n"
     ]
    }
   ],
   "source": [
    "import threading, queue\n",
    "\n",
    "q = queue.Queue()\n",
    "\n",
    "def worker():\n",
    "    while True:\n",
    "        item = q.get()\n",
    "        print(f'Working on {item}')\n",
    "        print(f'Finished {item}')\n",
    "        q.task_done()\n",
    "\n",
    "# turn-on the worker thread\n",
    "threading.Thread(target=worker, daemon=True).start()\n",
    "\n",
    "# send thirty task requests to the worker\n",
    "for item in range(5):\n",
    "    q.put(item)\n",
    "print('All task requests sent\\n', end='')\n",
    "\n",
    "# block until all tasks are done\n",
    "q.join()\n",
    "print('All work completed')"
   ],
   "metadata": {
    "collapsed": false
   }
  },
  {
   "cell_type": "markdown",
   "source": [
    "# 双端队列deque\n",
    "注意，这个是在 collectitons 类中\n",
    "> https://docs.python.org/3.9/library/collections.html#collections.deque"
   ],
   "metadata": {
    "collapsed": false
   }
  },
  {
   "cell_type": "code",
   "execution_count": 14,
   "outputs": [
    {
     "data": {
      "text/plain": "deque([1, 2, 3])"
     },
     "execution_count": 14,
     "metadata": {},
     "output_type": "execute_result"
    },
    {
     "data": {
      "text/plain": "deque([1, 2, 3, 4])"
     },
     "execution_count": 14,
     "metadata": {},
     "output_type": "execute_result"
    },
    {
     "data": {
      "text/plain": "1"
     },
     "execution_count": 14,
     "metadata": {},
     "output_type": "execute_result"
    },
    {
     "data": {
      "text/plain": "4"
     },
     "execution_count": 14,
     "metadata": {},
     "output_type": "execute_result"
    }
   ],
   "source": [
    "import collections\n",
    "# 基本操作\n",
    "dq = collections.deque()\n",
    "dq.append(1)\n",
    "dq.extend([2,3])\n",
    "dq  # deque([1, 2, 3])\n",
    "lst = [1,2,3,4]\n",
    "dq2 = collections.deque(lst)\n",
    "dq2\n",
    "# 最重要的两个 2 个操作：队列先进先出，左边弹出复杂度为O(1)\n",
    "dq2.popleft()\n",
    "dq2.pop()\n",
    "dq2.appendleft(66)\n",
    "dq2.append(88)"
   ],
   "metadata": {
    "collapsed": false
   }
  },
  {
   "cell_type": "markdown",
   "source": [
    "# Python 优先队列 queue.PriorityQueue——美丽的优先级队列\n",
    "\n",
    "1. 什么是优先级队列？\n",
    "- 优先级队列是一种容器型数据结构，它能管理一队记录，并按照排序字段（例如一个数字类型的权重值）为其排序。\n",
    "- 由于是排序的，所以在优先级队列中你可以快速获取到最大的和最小的值。\n",
    "- 可以认为优先级队列是一种修改过的普通队列：普通队列依据记录插入的时间来获取下一个记录，而优先级队列依据优先级来获取下一个记录，优先级取决于排序字段的值。\n",
    "\n",
    "优先级队列常用来解决调度问题，比如给紧急的任务更高的优先级。\n",
    "以操作系统的任务调度为例：高优先级的任务（比如实时游戏）应该先于低优先级的任务（比如后台下载软件更新）执行。\n",
    "\n",
    "PriorityQueue的实现就是调用heap模块，只是基于Queue类进行了封装，加入了同步机制。"
   ],
   "metadata": {
    "collapsed": false
   }
  },
  {
   "cell_type": "code",
   "execution_count": 2,
   "outputs": [
    {
     "name": "stdout",
     "output_type": "stream",
     "text": [
      "(1, 'eat')\n",
      "(2, 'code')\n",
      "(3, 'sleep')\n"
     ]
    }
   ],
   "source": [
    "from queue import PriorityQueue\n",
    "\n",
    "q = PriorityQueue()\n",
    "\n",
    "q.put((2, 'code'))\n",
    "q.put((1, 'eat'))\n",
    "q.put((3, 'sleep'))\n",
    "\n",
    "while not q.empty():\n",
    "    next_item = q.get()\n",
    "    print(next_item)\n",
    "\n",
    "# 结果：\n",
    "#   (1, 'eat')\n",
    "#   (2, 'code')\n",
    "#   (3, 'sleep')\n"
   ],
   "metadata": {
    "collapsed": false
   }
  },
  {
   "cell_type": "code",
   "execution_count": 3,
   "outputs": [
    {
     "name": "stdout",
     "output_type": "stream",
     "text": [
      "嗨客网(www.haicoder.net)\n",
      "get data = [1, 'HaiCoder']\n",
      "get data = [3, 'Python']\n",
      "get data = [5, True]\n",
      "get data = [40, 1024]\n"
     ]
    }
   ],
   "source": [
    "import queue\n",
    "\n",
    "q = queue.PriorityQueue()\n",
    "q.put([1, 'HaiCoder'])  # 1是级别最高的\n",
    "q.put([40, 1024])\n",
    "q.put([3, 'Python'])\n",
    "q.put([5, True])\n",
    "if __name__ == '__main__':\n",
    "    print(\"嗨客网(www.haicoder.net)\")\n",
    "    while not q.empty():  # 不为空时候执行\n",
    "        print(\"get data =\", q.get())"
   ],
   "metadata": {
    "collapsed": false
   }
  },
  {
   "cell_type": "markdown",
   "source": [
    "当一个对象的所有元素都是可比较的时，默认情况下是根据队列中的对象的第一个元素进行排序，越小的优先级越高，排在越前面。\n",
    "当第一个元素相同时，依次比较后续的元素的大小来进行排序。\n",
    "\n",
    "由于 PriorityQueue 是继承自 Queue 类，所以很多函数的用法可以直接参照于 Queue 类中的函数。"
   ],
   "metadata": {
    "collapsed": false
   }
  },
  {
   "cell_type": "code",
   "execution_count": 9,
   "outputs": [
    {
     "data": {
      "text/plain": "(2, 'b')"
     },
     "execution_count": 9,
     "metadata": {},
     "output_type": "execute_result"
    },
    {
     "data": {
      "text/plain": "4"
     },
     "execution_count": 9,
     "metadata": {},
     "output_type": "execute_result"
    }
   ],
   "source": [
    "from queue import PriorityQueue as PQ\n",
    "\n",
    "pq = PQ()\n",
    "pq.put((3, 'a'))\n",
    "pq.put((2, 'c'))\n",
    "pq.put((2, 'b'))\n",
    "pq.put((2, 'b'))\n",
    "\n",
    "# print(pq.queue) # [(1, 'a'), (2, 'b'), (2, 'b'), (2, 'c')]\n",
    "# item0 = pq.get() # (1, 'a')\n",
    "# item0\n",
    "# print(pq.queue) # [(2, 'b'), (2, 'b'), (2, 'c')]\n",
    "pq.queue[0]\n",
    "pq.qsize()\n",
    "\n",
    "# print(pq.qsize()) # 优先队列的尺寸\n",
    "#\n",
    "# while not pq.empty():\n",
    "#     print(pq.get())"
   ],
   "metadata": {
    "collapsed": false
   }
  },
  {
   "cell_type": "markdown",
   "source": [
    "# 自定义队列的优先级\n",
    "- Python可以基于queue.PriorityQueue来实现优先队列，但是queue.PriorityQueue的自定义排序不支持函数参数传入，\n",
    "- 而是只能基于queue.PriorityQueue加入的元素的自身比较器（如__lt__和__gt__）来排序"
   ],
   "metadata": {
    "collapsed": false
   }
  },
  {
   "cell_type": "code",
   "execution_count": 25,
   "outputs": [
    {
     "data": {
      "text/plain": "6"
     },
     "execution_count": 25,
     "metadata": {},
     "output_type": "execute_result"
    },
    {
     "name": "stdout",
     "output_type": "stream",
     "text": [
      "5\n",
      "6\n",
      "1\n",
      "4\n",
      "3\n",
      "2\n"
     ]
    }
   ],
   "source": [
    "class Task:\n",
    "    def __init__(self, taskId, priority, need, arrived):\n",
    "        \"\"\"\n",
    "        Args:\n",
    "            taskId:任务 id\n",
    "            priority:任务优先级\n",
    "            need:任务需要的执行时间\n",
    "            arrived:任务的到达时间\n",
    "        \"\"\"\n",
    "        self.taskId = taskId\n",
    "        self.priority = priority\n",
    "        self.need = need\n",
    "        self.arrived = arrived\n",
    "\n",
    "    def __gt__(self, other):\n",
    "        \"\"\"\n",
    "        优先级队列的比较器规则：\n",
    "        1.优先级数字越大优先级越高\n",
    "        2.相同优先级的任务选择到达时间最早的任务\n",
    "        \"\"\"\n",
    "        if self.priority != other.priority:\n",
    "            return other.priority > self.priority\n",
    "        else:\n",
    "            return self.arrived > other.arrived\n",
    "\n",
    "\n",
    "# 测试\n",
    "import queue\n",
    "\n",
    "# datas = [list(map(int, input().split())) for _ in range(6)]\n",
    "datas = [[1, 3, 5, 1], [2, 1, 5, 10], [3, 2, 7, 12], [4, 3, 2, 20], [5, 4, 9, 21], [6, 4, 2, 22]]\n",
    "pq = queue.PriorityQueue()\n",
    "for seq in datas:\n",
    "    tid, p, ptime, atime = seq\n",
    "    task = Task(tid, p, ptime, atime)\n",
    "    pq.put(task)\n",
    "\n",
    "pq.qsize()\n",
    "while pq.qsize() > 0:\n",
    "    pollTask = pq.get()\n",
    "    print(pollTask.taskId)"
   ],
   "metadata": {
    "collapsed": false
   }
  },
  {
   "cell_type": "code",
   "execution_count": null,
   "outputs": [],
   "source": [],
   "metadata": {
    "collapsed": false
   }
  }
 ],
 "metadata": {
  "kernelspec": {
   "display_name": "Python 3",
   "language": "python",
   "name": "python3"
  },
  "language_info": {
   "codemirror_mode": {
    "name": "ipython",
    "version": 2
   },
   "file_extension": ".py",
   "mimetype": "text/x-python",
   "name": "python",
   "nbconvert_exporter": "python",
   "pygments_lexer": "ipython2",
   "version": "2.7.6"
  }
 },
 "nbformat": 4,
 "nbformat_minor": 0
}
