{
 "cells": [
  {
   "cell_type": "code",
   "execution_count": 1,
   "metadata": {
    "collapsed": true
   },
   "outputs": [],
   "source": [
    "from IPython.core.interactiveshell import InteractiveShell\n",
    "\n",
    "InteractiveShell.ast_node_interactivity = 'all'"
   ]
  },
  {
   "cell_type": "markdown",
   "source": [
    "> 参考：https://labuladong.github.io/algo/di-san-zha-24031/shu-xue-yu-659f1/chang-yong-13a76/"
   ],
   "metadata": {
    "collapsed": false
   }
  },
  {
   "cell_type": "markdown",
   "source": [
    "# 异或运算 ^  XOR\n",
    "两个数字进行异或运算时，它们的二进制表示进行逐位比较。如果两个对应位的数字相同，则结果为0；如果不同，则结果为1\n",
    "1. 两个相同的数字进行异或运算的结果是0\n",
    "2. 当一个数字与0进行异或运算时，结果将是该数字本身。\n",
    "\n",
    "\n",
    "异或运算在计算机科学和电子工程中有广泛的应用。以下是一些异或运算的常见应用：\n",
    "1. 数据加密：异或运算可以用于对数据进行简单的加密和解密。通过将数据与一个密钥进行异或运算，可以实现简单的加密和解密过程。\n",
    "2. 校验和计算：在数据通信中，异或运算可以用于计算校验和。通过对数据的每个字节进行异或运算，可以生成一个校验和值，用于验证数据的完整性。\n",
    "3. 交换值：通过异或运算，可以在不使用额外变量的情况下，交换两个变量的值。这是因为异或运算满足交换律和结合律。\n",
    "4. 位操作：异或运算可以用于对二进制数进行位操作。例如，可以使用异或运算来翻转特定位的值，或者将特定位设置为1或0。\n",
    "\n",
    "总的来说，异或运算在编程和电子工程中具有广泛的应用，可以用于加密、校验和计算、位操作等多个领域。"
   ],
   "metadata": {
    "collapsed": false
   }
  },
  {
   "cell_type": "code",
   "execution_count": 11,
   "outputs": [
    {
     "data": {
      "text/plain": "3"
     },
     "execution_count": 11,
     "metadata": {},
     "output_type": "execute_result"
    },
    {
     "data": {
      "text/plain": "1"
     },
     "execution_count": 11,
     "metadata": {},
     "output_type": "execute_result"
    },
    {
     "data": {
      "text/plain": "9"
     },
     "execution_count": 11,
     "metadata": {},
     "output_type": "execute_result"
    },
    {
     "data": {
      "text/plain": "0"
     },
     "execution_count": 11,
     "metadata": {},
     "output_type": "execute_result"
    }
   ],
   "source": [
    "1 ^ 2  # 3\n",
    "2 ^ 3  # 1\n",
    "0 ^ 9  # 9\n",
    "9 ^ 9  # 0"
   ],
   "metadata": {
    "collapsed": false
   }
  },
  {
   "cell_type": "code",
   "execution_count": 12,
   "outputs": [
    {
     "name": "stdout",
     "output_type": "stream",
     "text": [
      "15\n",
      "10\n",
      "5\n",
      "5 10\n"
     ]
    }
   ],
   "source": [
    "#  1. 交换两个整数的值：\n",
    "# 通过异或运算，可以在不使用额外变量的情况下，交换两个整数的值。\n",
    "a = 10\n",
    "b = 5\n",
    "# a = a ^ b\n",
    "a ^= b\n",
    "print(a)  # 15\n",
    "# b = a ^ b\n",
    "b ^= a\n",
    "print(b)  # 10\n",
    "# a = a ^ b\n",
    "a ^= b\n",
    "print(a)  # 5\n",
    "print(a, b)  # 输出结果为 5 10"
   ],
   "metadata": {
    "collapsed": false
   }
  },
  {
   "cell_type": "code",
   "execution_count": 15,
   "outputs": [
    {
     "name": "stdout",
     "output_type": "stream",
     "text": [
      "3\n"
     ]
    }
   ],
   "source": [
    "#  2. 检测数组中出现奇数次的元素：\n",
    "# 通过将数组中的所有元素进行异或运算，最后的结果将是出现奇数次的元素。\n",
    "arr = [1, 2, 3, 2, 1, 4, 4]\n",
    "result = 0\n",
    "for num in arr:\n",
    "    # result = result ^ num\n",
    "    result ^= num\n",
    "print(result)  # 输出结果为 3"
   ],
   "metadata": {
    "collapsed": false
   }
  },
  {
   "cell_type": "code",
   "execution_count": 57,
   "outputs": [
    {
     "name": "stdout",
     "output_type": "stream",
     "text": [
      "加密后的消息： bOFFE\u0006\n",
      "}EXFN\u000B\n",
      "解密后的消息： Hello, World!\n"
     ]
    }
   ],
   "source": [
    " # 3. 字符串加密与解密：\n",
    "# 通过将消息中的每个字符与密钥进行异或运算，可以实现简单的加密和解密过程\n",
    "message = \"Hello, World!\"\n",
    "key = 42\n",
    "encrypted_message = \"\"\n",
    "for char in message:\n",
    "    encrypted_char = ord(char) ^ key\n",
    "    encrypted_message += chr(encrypted_char)\n",
    "print(\"加密后的消息：\", encrypted_message)  # 加密后的消息： bOFFE }EXFN\n",
    "\n",
    "decrypted_message = \"\"\n",
    "for char in encrypted_message:\n",
    "    decrypted_char = ord(char) ^ key\n",
    "    decrypted_message += chr(decrypted_char)\n",
    "print(\"解密后的消息：\", decrypted_message)  # 解密后的消息： Hello, World!"
   ],
   "metadata": {
    "collapsed": false
   }
  },
  {
   "cell_type": "markdown",
   "source": [
    "## a ^ a = 0 的运用\n",
    "异或运算的性质是需要我们牢记的：\n",
    "- 一个数和它本身做异或运算结果为 0，即 a ^ a = 0；\n",
    "- 一个数和 0 做异或运算的结果为它本身，即 a ^ 0 = a。"
   ],
   "metadata": {
    "collapsed": false
   }
  },
  {
   "cell_type": "code",
   "execution_count": null,
   "outputs": [],
   "source": [
    "from typing import List\n",
    "\n",
    "\n",
    "# 给你一个 非空 整数数组 nums ，除了某个元素只出现一次以外，其余每个元素均出现两次。找出那个只出现了一次的元素。\n",
    "class Solution:\n",
    "    def singleNumber(self, nums: List[int]) -> int:\n",
    "        res = 0\n",
    "        for num in nums:\n",
    "            res ^= num\n",
    "        return res"
   ],
   "metadata": {
    "collapsed": false
   }
  },
  {
   "cell_type": "markdown",
   "source": [
    "# 模运算 %\n",
    "典型应用\n",
    "1. 基数排序\n",
    "2. 环形数组"
   ],
   "metadata": {
    "collapsed": false
   }
  },
  {
   "cell_type": "code",
   "execution_count": 20,
   "outputs": [],
   "source": [
    "from typing import List\n",
    "\n",
    "\n",
    "# 基数排序，考虑负数，考虑排序的稳定性\n",
    "class Solution2:\n",
    "    def sortArray(self, nums: List[int]) -> List[int]:\n",
    "        return self.radixSort(nums)\n",
    "\n",
    "    def radixSort(self, nums: list) -> List:\n",
    "        # 1.找出数组中最大数和最小数\n",
    "        max_num = float('-inf')\n",
    "        min_num = float('inf')\n",
    "        for num in nums:\n",
    "            max_num = max(max_num, num)\n",
    "            min_num = min(min_num, num)\n",
    "\n",
    "        # 2.根据最小数将nums全部转换为非负整数\n",
    "        for i in range(len(nums)):\n",
    "            nums[i] += abs(min_num)\n",
    "        max_num = max_num + abs(min_num)\n",
    "\n",
    "        # 3.根据最大数的数位进行循环计数排序\n",
    "        carry = 1\n",
    "        while (max_num // carry) > 0:\n",
    "            self.countingSort(nums, carry)\n",
    "            carry *= 10\n",
    "\n",
    "        # 4.将nums还原为原本数字\n",
    "        for i in range(len(nums)):\n",
    "            nums[i] -= abs(min_num)\n",
    "\n",
    "        return nums\n",
    "\n",
    "    # 计数排序\n",
    "    def countingSort(self, nums, carry):\n",
    "        # 1.计数数组统计每个数位上的数字出现的次数\n",
    "        count = [0] * 10\n",
    "        for num in nums:\n",
    "            remainder = (num // carry) % 10\n",
    "            count[remainder] += 1\n",
    "\n",
    "        # 2.计算每个数字在排序后的数组中的位置(前缀和)\n",
    "        for i in range(1, 10):\n",
    "            count[i] += count[i - 1]\n",
    "\n",
    "        # 3.根据计数数组计算排序后的数组中的位置\n",
    "        nums_copy = nums.copy()\n",
    "        for num in reversed(nums_copy):\n",
    "            remainder = (num // carry) % 10\n",
    "            # 位置有一个偏移\n",
    "            idx = count[remainder] - 1\n",
    "            nums[idx] = num\n",
    "            count[remainder] -= 1"
   ],
   "metadata": {
    "collapsed": false
   }
  },
  {
   "cell_type": "code",
   "execution_count": 27,
   "outputs": [
    {
     "name": "stdout",
     "output_type": "stream",
     "text": [
      "[5, 2, 1, 4, 5, 2, 1, 4]\n"
     ]
    }
   ],
   "source": [
    "# 利用求模（余数）的方式让数组看起来头尾相接形成一个环形\n",
    "arr = [5, 2, 1, 4]\n",
    "n = len(arr)\n",
    "newArr = []\n",
    "for i in range(2 * n):\n",
    "    # 在环形数组中转圈\n",
    "    newArr.append(arr[i % n])\n",
    "print(newArr)\n",
    "# 输出：[5, 2, 1, 4, 5, 2, 1]\n"
   ],
   "metadata": {
    "collapsed": false
   }
  },
  {
   "cell_type": "markdown",
   "source": [
    "# 与运算 AND &\n",
    "与运算是一种逻辑运算，用于比较两个二进制数的对应位。它的主要特点是，\n",
    "1. 当两个对应位的数字都为1时，结果为1；\n",
    "2. 而当两个对应位的数字有一个或两个都为0时，结果为0。\n",
    "\n",
    "与运算的原理如下：\n",
    "1. 对于两个二进制数，从左到右逐位进行比较。\n",
    "2. 如果两个对应位的数字都为1，则结果的对应位为1；否则，结果的对应位为0。\n",
    "\n",
    "两个正整数进行与运算的原理如下：\n",
    "1. 将两个正整数转换为二进制形式。\n",
    "2. 从右向左逐位进行比较。\n",
    "3. 如果两个对应位的数字都为1，则结果的对应位为1；否则，结果的对应位为0。\n",
    "4. 将得到的二进制结果转换回十进制形式，即为两个正整数进行与运算后的结果。\n",
    "\n",
    "- 通过与运算，可以比较两个正整数的对应位，从而得到一个新的正整数作为结果。\n",
    "- 这在计算机科学和电子工程中经常用于掩码操作、位操作和逻辑运算等方面。"
   ],
   "metadata": {
    "collapsed": false
   }
  },
  {
   "cell_type": "code",
   "execution_count": 39,
   "outputs": [
    {
     "data": {
      "text/plain": "0"
     },
     "execution_count": 39,
     "metadata": {},
     "output_type": "execute_result"
    },
    {
     "data": {
      "text/plain": "0"
     },
     "execution_count": 39,
     "metadata": {},
     "output_type": "execute_result"
    },
    {
     "data": {
      "text/plain": "1"
     },
     "execution_count": 39,
     "metadata": {},
     "output_type": "execute_result"
    },
    {
     "data": {
      "text/plain": "False"
     },
     "execution_count": 39,
     "metadata": {},
     "output_type": "execute_result"
    },
    {
     "data": {
      "text/plain": "False"
     },
     "execution_count": 39,
     "metadata": {},
     "output_type": "execute_result"
    },
    {
     "data": {
      "text/plain": "True"
     },
     "execution_count": 39,
     "metadata": {},
     "output_type": "execute_result"
    },
    {
     "data": {
      "text/plain": "0"
     },
     "execution_count": 39,
     "metadata": {},
     "output_type": "execute_result"
    },
    {
     "data": {
      "text/plain": "1"
     },
     "execution_count": 39,
     "metadata": {},
     "output_type": "execute_result"
    }
   ],
   "source": [
    "1 & 0  # 0\n",
    "0 & 0  # 0\n",
    "1 & 1  # 1\n",
    "True & False  # False\n",
    "False & False  # False\n",
    "True & True  # True\n",
    "\n",
    "# 判断奇偶性\n",
    "2 & 1  # 0\n",
    "3 & 1  # 1\n",
    "\n",
    "a = 10  # 二进制表示为 1010\n",
    "b = 12  # 二进制表示为 1100\n",
    "result = a & b  # 进行与运算\n",
    "print(result)  # 输出结果为 8，二进制表示为 1000"
   ],
   "metadata": {
    "collapsed": false
   }
  },
  {
   "cell_type": "markdown",
   "source": [
    "## 常见的与运算示例\n",
    "这些示例展示了与运算在不同场景下的应用，包括检测位的状态、清除位的值以及判断奇偶性。"
   ],
   "metadata": {
    "collapsed": false
   }
  },
  {
   "cell_type": "code",
   "execution_count": 34,
   "outputs": [
    {
     "name": "stdout",
     "output_type": "stream",
     "text": [
      "0b10100000\n"
     ]
    }
   ],
   "source": [
    "# 1. 检测位的状态：\n",
    "# 通过与运算，可以检测两个二进制数中对应位的状态。\n",
    "# 在示例中，两个二进制数的对应位进行与运算后，得到的结果是新的二进制数。\n",
    "a = 0b10101010\n",
    "b = 0b11110000\n",
    "result = a & b\n",
    "print(bin(result))  # 输出结果为 0b10100000"
   ],
   "metadata": {
    "collapsed": false
   }
  },
  {
   "cell_type": "code",
   "execution_count": 36,
   "outputs": [
    {
     "name": "stdout",
     "output_type": "stream",
     "text": [
      "0b1100\n"
     ]
    }
   ],
   "source": [
    "#  2. 清除位的值：\n",
    "# 通过与运算和取反运算，可以清除二进制数中特定位的值。\n",
    "# 在示例中，通过与运算和取反运算，将指定位的值清除为0。\n",
    "a = 0b11001100\n",
    "mask = 0b11110000\n",
    "result = a & ~mask\n",
    "print(bin(result))  # 输出结果为 0b1100"
   ],
   "metadata": {
    "collapsed": false
   }
  },
  {
   "cell_type": "code",
   "execution_count": 56,
   "outputs": [
    {
     "name": "stdout",
     "output_type": "stream",
     "text": [
      "偶数\n"
     ]
    }
   ],
   "source": [
    "# 3. 判断奇偶性：\n",
    "# 通过与运算，可以判断一个数的奇偶性。\n",
    "# 在示例中，将数与1进行与运算，如果结果为0，则为偶数；如果结果为1，则为奇数。\n",
    "num = 10\n",
    "result = num & 1  # 1 的二进制为 0001，\n",
    "# 如果num是偶数，二进制最后一位为 0，num和 1 进行与运算之后为 0000，十进制就是 0\n",
    "# 如果num是奇数，最后一位为 1，num和 1 进行与运算之后为 0001，十进制就是 1\n",
    "if result == 0:\n",
    "    print(\"偶数\")\n",
    "else:\n",
    "    print(\"奇数\")"
   ],
   "metadata": {
    "collapsed": false
   }
  },
  {
   "cell_type": "markdown",
   "source": [
    "## n & (n-1)\n",
    "这个操作在算法中比较常见，作用是消除数字 n 的二进制表示中的最后一个 1。"
   ],
   "metadata": {
    "collapsed": false
   }
  },
  {
   "cell_type": "code",
   "execution_count": null,
   "outputs": [],
   "source": [
    "# 编写一个函数，输入是一个无符号整数（以二进制串的形式），返回其二进制表达式中数字位数为 '1' 的个数（也被称为汉明重量）\n",
    "# 解法 2：二进制移位\n",
    "\"\"\"\n",
    "二、右移 32 次\n",
    "如果除去库函数之外，我们最容易想到的办法，肯定还是直观地统计二进制中每一位是否包含 1。\n",
    "\n",
    "做法是：\n",
    "1. 使用 n & 1得到二进制末尾是否为 1；\n",
    "2. 把 n右移 1 位，直至结束。\n",
    "\"\"\"\n",
    "\n",
    "\n",
    "class Solution2(object):\n",
    "    def hammingWeight(self, n):\n",
    "        res = 0\n",
    "        while n:\n",
    "            # 1. 使用 n & 1得到二进制末尾是否为 1；\n",
    "            res += n & 1\n",
    "            # 2. 把 n右移 1 位，直至结束。\n",
    "            n >>= 1\n",
    "        return res\n",
    "\n",
    "\n",
    "# 解法 3：消除二进制末尾的 1\n",
    "\"\"\"\n",
    "方法二：位运算优化\n",
    "思路及解法:\n",
    "观察这个运算：n & (n−1)，其运算结果恰为把 n 的二进制位中的最低位的 1 变为 0 之后的结果。\n",
    "如：6 & (6−1) = 4, 6 = (110)2, 4 = (100)2，运算结果 4 即为把 6 的二进制位中的最低位的 1 变为 0 之后的结果。\n",
    "\n",
    "这样我们可以利用这个位运算的性质加速我们的检查过程，\n",
    "在实际代码中，我们不断让当前的 n 与 n−1 做与运算，直到 n 变为 0 即可。因\n",
    "为每次运算会使得 n 的最低位的 1 被翻转，因此运算次数就等于 n 的二进制位中 1 的个数。\n",
    "\n",
    "复杂度分析\n",
    "时间复杂度：O(k)，k 为 n 的二进制长度。\n",
    "空间复杂度：O(1)。\n",
    "\"\"\"\n",
    "\n",
    "\n",
    "class Solution:\n",
    "    def hammingWeight(self, n: int) -> int:\n",
    "        # n & (n - 1) 可以消除最后一个 1，\n",
    "        # 所以可以用一个循环不停地消除 1 同时计数，直到 n 变成 0 为止。\n",
    "        res = 0\n",
    "        while n != 0:\n",
    "            # n = n & (n - 1)\n",
    "            n &= (n - 1)\n",
    "            res += 1\n",
    "        return res"
   ],
   "metadata": {
    "collapsed": false
   }
  },
  {
   "cell_type": "markdown",
   "source": [
    "# 二进制 0b\n",
    " 1. 使用前缀\"0b\"加上二进制数的字符串形式表示，其中\"0b\"表示该字符串是一个二进制数的标识符"
   ],
   "metadata": {
    "collapsed": false
   }
  },
  {
   "cell_type": "code",
   "execution_count": 55,
   "outputs": [
    {
     "data": {
      "text/plain": "int"
     },
     "execution_count": 55,
     "metadata": {},
     "output_type": "execute_result"
    },
    {
     "data": {
      "text/plain": "10"
     },
     "execution_count": 55,
     "metadata": {},
     "output_type": "execute_result"
    },
    {
     "data": {
      "text/plain": "str"
     },
     "execution_count": 55,
     "metadata": {},
     "output_type": "execute_result"
    },
    {
     "data": {
      "text/plain": "2"
     },
     "execution_count": 55,
     "metadata": {},
     "output_type": "execute_result"
    }
   ],
   "source": [
    "num = 0b1010  # 变量num的值为10，它的二进制表示为1010。\n",
    "# n = 0b00000000000000000000000000001011\n",
    "type(num)  # int\n",
    "int(num)  # 10\n",
    "\n",
    "s = bin(num)  # '0b1010'\n",
    "type(s)  # str\n",
    "s[2:].count('1')  # 2"
   ],
   "metadata": {
    "collapsed": false
   }
  },
  {
   "cell_type": "code",
   "execution_count": 50,
   "outputs": [
    {
     "name": "stdout",
     "output_type": "stream",
     "text": [
      "0b1010\n"
     ]
    }
   ],
   "source": [
    "num = 10\n",
    "binary_str = bin(num)\n",
    "print(binary_str)  # 输出结果为 '0b1010'"
   ],
   "metadata": {
    "collapsed": false
   }
  },
  {
   "cell_type": "code",
   "execution_count": null,
   "outputs": [],
   "source": [],
   "metadata": {
    "collapsed": false
   }
  }
 ],
 "metadata": {
  "kernelspec": {
   "display_name": "Python 3",
   "language": "python",
   "name": "python3"
  },
  "language_info": {
   "codemirror_mode": {
    "name": "ipython",
    "version": 2
   },
   "file_extension": ".py",
   "mimetype": "text/x-python",
   "name": "python",
   "nbconvert_exporter": "python",
   "pygments_lexer": "ipython2",
   "version": "2.7.6"
  }
 },
 "nbformat": 4,
 "nbformat_minor": 0
}
