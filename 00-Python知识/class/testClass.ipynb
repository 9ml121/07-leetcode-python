{
 "cells": [
  {
   "cell_type": "code",
   "execution_count": 6,
   "metadata": {
    "collapsed": true
   },
   "outputs": [],
   "source": [
    "from IPython.core.interactiveshell import InteractiveShell\n",
    "\n",
    "InteractiveShell.ast_node_interactivity = 'all'"
   ]
  },
  {
   "cell_type": "markdown",
   "source": [
    "# Python的富比较方法\n",
    "\n",
    "Python的富比较方法包括__lt__、__gt__分别表示：小于、大于，对应的操作运算符为:“<”、“>”。那么是否象普通数字运算一样，这两个方法之间存在互反的关系呢？\n",
    "Python没有对__lt__、__gt__这两个方法之间有什么强制关系，但建议__lt__和__gt__为互反，开发者完全可以根据业务逻辑的需要自己定义。\n",
    "\n",
    "我们来进行分析验证：\n",
    "当自定义类中两个方法都定义了时，“<”、“>”分别调用__lt__和__gt__方法；\n"
   ],
   "metadata": {
    "collapsed": false
   }
  },
  {
   "cell_type": "code",
   "execution_count": 3,
   "outputs": [
    {
     "name": "stdout",
     "output_type": "stream",
     "text": [
      "execute __lt__\n"
     ]
    },
    {
     "data": {
      "text/plain": "False"
     },
     "execution_count": 3,
     "metadata": {},
     "output_type": "execute_result"
    }
   ],
   "source": [
    "class Car:\n",
    "    def __init__(self, carname, oilcp100km, price):\n",
    "        self.carname = carname\n",
    "        self.oilcp100km = oilcp100km\n",
    "        self.price = price\n",
    "\n",
    "    def __lt__(self, other):\n",
    "        print(\"execute __lt__\")\n",
    "        return self.price < other.price\n",
    "\n",
    "\n",
    "car1, car2, car3, car4 = Car('爱丽舍', 8, 10), Car('凯美瑞', 7, 27), Car('爱丽舍', 8, 10), Car('途观', 12, 27)\n",
    "car1 > car2"
   ],
   "metadata": {
    "collapsed": false
   }
  },
  {
   "cell_type": "markdown",
   "source": [
    "当自定义类中定义了__lt__方法，未定义__gt__方法时，进行”>”比较也是调用__lt__方法，只是对调用值求反。\n",
    "案例："
   ],
   "metadata": {
    "collapsed": false
   }
  },
  {
   "cell_type": "code",
   "execution_count": 5,
   "outputs": [
    {
     "name": "stdout",
     "output_type": "stream",
     "text": [
      "execute __gt__\n"
     ]
    },
    {
     "data": {
      "text/plain": "True"
     },
     "execution_count": 5,
     "metadata": {},
     "output_type": "execute_result"
    },
    {
     "name": "stdout",
     "output_type": "stream",
     "text": [
      "execute __gt__\n"
     ]
    },
    {
     "data": {
      "text/plain": "False"
     },
     "execution_count": 5,
     "metadata": {},
     "output_type": "execute_result"
    }
   ],
   "source": [
    "class Car2:\n",
    "    def __init__(self, carname, oilcp100km, price):\n",
    "        self.carname = carname\n",
    "        self.oilcp100km = oilcp100km\n",
    "        self.price = price\n",
    "\n",
    "    def __gt__(self, other):\n",
    "        print(\"execute __gt__\")\n",
    "        return self.price > other.price\n",
    "\n",
    "\n",
    "car1, car2, car3, car4 = Car2('爱丽舍', 8, 10), Car2('凯美瑞', 7, 27), Car2('爱丽舍', 8, 10), Car2('途观', 12, 27)\n",
    "car1 < car2\n",
    "car1 > car2"
   ],
   "metadata": {
    "collapsed": false
   }
  },
  {
   "cell_type": "markdown",
   "source": [
    "通过以上案例，我们知道当__lt__、__gt__方法都定义了时，“<”、“>”分别调用__lt__和__gt__方法，\n",
    "当一个定义另一个未定义时，未定义的操作执行时会调用已经定义的方法求反。这个与__eq__和__ne__的关系还是有较大的不同。"
   ],
   "metadata": {
    "collapsed": false
   }
  },
  {
   "cell_type": "code",
   "execution_count": 12,
   "outputs": [
    {
     "data": {
      "text/plain": "True"
     },
     "execution_count": 12,
     "metadata": {},
     "output_type": "execute_result"
    },
    {
     "data": {
      "text/plain": "True"
     },
     "execution_count": 12,
     "metadata": {},
     "output_type": "execute_result"
    }
   ],
   "source": [
    "class Customer:\n",
    "    def __init__(self, num, x):\n",
    "        # 表示到来的客户编号为 num ,优先级为 x\n",
    "        self.num = num\n",
    "        self.x = x\n",
    "\n",
    "    def __lt__(self, other):\n",
    "        # 如果同时有多位优先级相同且最高的客户，则按照先来后到的顺序办理\n",
    "        if self.x == other.x:\n",
    "            return self.num < other.num\n",
    "        else:\n",
    "            return self.x < other.x\n",
    "\n",
    "\n",
    "cus1 = Customer(1, 6)\n",
    "cus2 = Customer(2, 6)\n",
    "cus3 = Customer(2, 2)\n",
    "cus1 < cus2\n",
    "cus1 > cus3"
   ],
   "metadata": {
    "collapsed": false
   }
  },
  {
   "cell_type": "code",
   "execution_count": 1,
   "outputs": [
    {
     "name": "stdout",
     "output_type": "stream",
     "text": [
      "<__main__.UnionFindSet object at 0x7f7b40b0f700>\n"
     ]
    }
   ],
   "source": [
    "# 并集查结构\n",
    "class UnionFindSet:\n",
    "    def __init__(self, n):  # 1。初始化0-n的父节点，和没有更改父节点的数量\n",
    "        self.fa = [i for i in range(n)]  # 0-n各个索引对应的父节点，初始化是索引本身\n",
    "        self.count = n  # 没有更新父节点的数量，初始化为数组本身长度\n",
    "\n",
    "    def find(self, x):  # 2。找坐标的父节点:\n",
    "        if x != self.fa[x]:\n",
    "            # 2.1 如果x的父节点前面已经更改过，就找x的父父站点，并返回她的父父节点\n",
    "            # 比如 (0, 1), (0, 3), (2, 3): 第二次查找3的父节点，应该返回0的父节点，也就是0\n",
    "            self.fa[x] = self.find(self.fa[x])\n",
    "            return self.fa[x]\n",
    "        return x  # 2.2 如果x的父节点没更改过，正常返回索引本身\n",
    "\n",
    "    def union(self, x, y):  # 3。更新坐标的父节点\n",
    "        x_fa = self.find(x)\n",
    "        y_fa = self.find(y)\n",
    "\n",
    "        if x_fa != y_fa:\n",
    "            self.fa[y_fa] = x_fa  # (0, 1):将1的父节点改为0\n",
    "            self.count -= 1  # count记录没有更新过父节点的数量\n",
    "\n",
    "\n",
    "ufs = UnionFindSet(3)\n",
    "print(ufs)"
   ],
   "metadata": {
    "collapsed": false
   }
  },
  {
   "cell_type": "markdown",
   "source": [
    "# 类属性与方法\n",
    "## 类的方法\n",
    "在类的内部，使用 def 关键字来定义一个方法，与一般函数定义不同，类方法必须包含参数 self，且为第一个参数，self 代表的是类的实例。\n",
    "self 的名字并不是规定死的，也可以使用 this，但是最好还是按照约定使用 self。\n",
    "\n",
    "## 类的私有属性\n",
    "__private_attrs：两个下划线开头，声明该属性为私有，不能在类的外部被使用或直接访问。在类内部的方法中使用时 self.__private_attrs。\n",
    "## 类的私有方法\n",
    "__private_method：两个下划线开头，声明该方法为私有方法，只能在类的内部调用 ，不能在类的外部调用。self.__private_methods。"
   ],
   "metadata": {
    "collapsed": false
   }
  },
  {
   "cell_type": "code",
   "execution_count": 8,
   "outputs": [
    {
     "name": "stdout",
     "output_type": "stream",
     "text": [
      "1\n"
     ]
    },
    {
     "ename": "AttributeError",
     "evalue": "'JustCounter' object has no attribute '__secretCount'",
     "output_type": "error",
     "traceback": [
      "\u001B[1;31m---------------------------------------------------------------------------\u001B[0m",
      "\u001B[1;31mAttributeError\u001B[0m                            Traceback (most recent call last)",
      "Input \u001B[1;32mIn [8]\u001B[0m, in \u001B[0;36m<cell line: 15>\u001B[1;34m()\u001B[0m\n\u001B[0;32m     13\u001B[0m counter\u001B[38;5;241m.\u001B[39mcount()\n\u001B[0;32m     14\u001B[0m \u001B[38;5;28mprint\u001B[39m(counter\u001B[38;5;241m.\u001B[39mpublicCount)  \u001B[38;5;66;03m# 1\u001B[39;00m\n\u001B[1;32m---> 15\u001B[0m \u001B[38;5;28mprint\u001B[39m (\u001B[43mcounter\u001B[49m\u001B[38;5;241;43m.\u001B[39;49m\u001B[43m__secretCount\u001B[49m)\n",
      "\u001B[1;31mAttributeError\u001B[0m: 'JustCounter' object has no attribute '__secretCount'"
     ]
    }
   ],
   "source": [
    "class JustCounter:\n",
    "    __secretCount = 0  # 私有变量\n",
    "    publicCount = 0  # 公开变量\n",
    "\n",
    "    def count(self):\n",
    "        self.__secretCount += 1\n",
    "        self.publicCount += 1\n",
    "        # print (self.__secretCount)\n",
    "\n",
    "\n",
    "counter = JustCounter()\n",
    "# counter.count()\n",
    "counter.count()\n",
    "print(counter.publicCount)  # 1\n",
    "print(counter.__secretCount)  # 报错，实例不能访问私有变量"
   ],
   "metadata": {
    "collapsed": false
   }
  },
  {
   "cell_type": "markdown",
   "source": [
    "# 全局变量\n",
    "在Python中，内部类无法使用 global 关键字修改外部类变量。\n",
    "\n",
    "global 关键字用于声明一个变量是全局变量，可以在函数或模块中的任何位置使用。\n",
    "但是，内部类的作用域被限制在外部类中，因此无法使用 global 关键字来修改外部类变量。\n",
    "\n",
    "如果要修改外部类变量，可以使用 self 关键字来引用外部类实例，并直接修改实例变量。例如："
   ],
   "metadata": {
    "collapsed": false
   }
  },
  {
   "cell_type": "code",
   "execution_count": 2,
   "outputs": [
    {
     "name": "stdout",
     "output_type": "stream",
     "text": [
      "0\n",
      "1\n",
      "2\n"
     ]
    }
   ],
   "source": [
    "class OuterClass:\n",
    "    def __init__(self):\n",
    "        self.count = 0\n",
    "\n",
    "    class InnerClass:\n",
    "        def __init__(self, outer):\n",
    "            outer.count += 1\n",
    "\n",
    "\n",
    "outer = OuterClass()\n",
    "print(outer.count)  # 输出0\n",
    "inner1 = outer.InnerClass(outer)\n",
    "print(outer.count)  # 输出1\n",
    "inner2 = outer.InnerClass(outer)\n",
    "print(outer.count)  # 输出2"
   ],
   "metadata": {
    "collapsed": false
   }
  },
  {
   "cell_type": "code",
   "execution_count": null,
   "outputs": [],
   "source": [
    "class OuterClass:\n",
    "    def __init__(self):\n",
    "        self.count = 0\n",
    "\n",
    "    class InnerClass:\n",
    "        def __init__(self):\n",
    "            # global self.count # 报错\n",
    "            pass"
   ],
   "metadata": {
    "collapsed": false
   }
  },
  {
   "cell_type": "markdown",
   "source": [
    "# 在Python中，可以在类中使用类变量来实现全局变量的效果。\n",
    "\n",
    "- 类变量是在类定义中定义的变量，它们是类的所有实例共享的。\n",
    "- 可以通过类名或实例来访问类变量，并且可以在类的任何方法中修改类变量的值。\n",
    "下面是一个示例代码"
   ],
   "metadata": {
    "collapsed": false
   }
  },
  {
   "cell_type": "code",
   "execution_count": 13,
   "outputs": [
    {
     "data": {
      "text/plain": "0"
     },
     "execution_count": 13,
     "metadata": {},
     "output_type": "execute_result"
    },
    {
     "data": {
      "text/plain": "0"
     },
     "execution_count": 13,
     "metadata": {},
     "output_type": "execute_result"
    },
    {
     "data": {
      "text/plain": "0"
     },
     "execution_count": 13,
     "metadata": {},
     "output_type": "execute_result"
    },
    {
     "name": "stdout",
     "output_type": "stream",
     "text": [
      "1\n",
      "2\n",
      "2\n"
     ]
    }
   ],
   "source": [
    "class MyClass:\n",
    "    global_var = 0  # 定义类变量\n",
    "\n",
    "    def __init__(self):\n",
    "        self.instance_var = 0  # 定义实例变量\n",
    "\n",
    "    def class_method(self):\n",
    "        MyClass.global_var += 1  # 类方法中修改全局变量\n",
    "\n",
    "    def instance_method(self):\n",
    "        self.instance_var += 1  # 实例方法中修改实例变量\n",
    "        MyClass.global_var += 1  # 实例方法中修改全局变量\n",
    "\n",
    "    class InnerClass:\n",
    "        def inner_method(self):\n",
    "            MyClass.global_var += 1  # 内部类中修改全局变量\n",
    "\n",
    "\n",
    "MyClass.global_var  # 访问类变量\n",
    "obj = MyClass()\n",
    "obj.global_var  # 访问类变量\n",
    "obj.instance_var  # 访问实例变量\n",
    "MyClass.global_var = 1  # 修改类变量\n",
    "obj.global_var = 2  # 修改类变量\n",
    "obj.instance_var = 3  # 修改实例变量\n",
    "\n",
    "print(MyClass.global_var) # 1\n",
    "print(obj.global_var) # 2\n",
    "\n",
    "cls =  MyClass.InnerClass().inner_method()\n",
    "print(MyClass.global_var) # 2"
   ],
   "metadata": {
    "collapsed": false
   }
  }
 ],
 "metadata": {
  "kernelspec": {
   "display_name": "Python 3",
   "language": "python",
   "name": "python3"
  },
  "language_info": {
   "codemirror_mode": {
    "name": "ipython",
    "version": 2
   },
   "file_extension": ".py",
   "mimetype": "text/x-python",
   "name": "python",
   "nbconvert_exporter": "python",
   "pygments_lexer": "ipython2",
   "version": "2.7.6"
  }
 },
 "nbformat": 4,
 "nbformat_minor": 0
}
