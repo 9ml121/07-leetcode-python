{
 "cells": [
  {
   "cell_type": "code",
   "execution_count": 8,
   "metadata": {
    "collapsed": true
   },
   "outputs": [],
   "source": [
    "import math\n",
    "\n",
    "from IPython.core.interactiveshell import InteractiveShell\n",
    "InteractiveShell.ast_node_interactivity = 'all'"
   ]
  },
  {
   "cell_type": "code",
   "execution_count": 26,
   "outputs": [
    {
     "ename": "TypeError",
     "evalue": "deque.pop() takes no arguments (1 given)",
     "output_type": "error",
     "traceback": [
      "\u001B[1;31m---------------------------------------------------------------------------\u001B[0m",
      "\u001B[1;31mTypeError\u001B[0m                                 Traceback (most recent call last)",
      "Input \u001B[1;32mIn [26]\u001B[0m, in \u001B[0;36m<cell line: 7>\u001B[1;34m()\u001B[0m\n\u001B[0;32m      2\u001B[0m d \u001B[38;5;241m=\u001B[39m deque(\u001B[38;5;124m'\u001B[39m\u001B[38;5;124mghi\u001B[39m\u001B[38;5;124m'\u001B[39m)                 \u001B[38;5;66;03m# make a new deque with three items\u001B[39;00m\n\u001B[0;32m      3\u001B[0m \u001B[38;5;66;03m# for elem in d:\u001B[39;00m\n\u001B[0;32m      4\u001B[0m \u001B[38;5;66;03m#     print(elem)\u001B[39;00m\n\u001B[0;32m      5\u001B[0m \u001B[38;5;66;03m# d.append('j')\u001B[39;00m\n\u001B[0;32m      6\u001B[0m \u001B[38;5;66;03m# d.appendleft('f')\u001B[39;00m\n\u001B[1;32m----> 7\u001B[0m x \u001B[38;5;241m=\u001B[39m \u001B[43md\u001B[49m\u001B[38;5;241;43m.\u001B[39;49m\u001B[43mpop\u001B[49m\u001B[43m(\u001B[49m\u001B[38;5;241;43m0\u001B[39;49m\u001B[43m)\u001B[49m\n\u001B[0;32m      8\u001B[0m x\n",
      "\u001B[1;31mTypeError\u001B[0m: deque.pop() takes no arguments (1 given)"
     ]
    }
   ],
   "source": [
    "from collections import deque\n",
    "d = deque('ghi')                 # make a new deque with three items\n",
    "# for elem in d:\n",
    "#     print(elem)\n",
    "# d.append('j')\n",
    "# d.appendleft('f')\n",
    "x = d.pop()\n",
    "x\n",
    "# d.popleft()\n",
    "#\n",
    "# d\n",
    "# list(d)\n",
    "# d[0]\n",
    "# d[-1]\n",
    "# d.extend('jkl')\n",
    "# d\n",
    "# d.rotate(1)\n",
    "# d.extendleft('abc')\n",
    "# len(d)\n"
   ],
   "metadata": {
    "collapsed": false
   }
  },
  {
   "cell_type": "code",
   "execution_count": 6,
   "outputs": [
    {
     "data": {
      "text/plain": "[('blue', [2, 4]), ('red', [1]), ('yellow', [1, 3])]"
     },
     "execution_count": 6,
     "metadata": {},
     "output_type": "execute_result"
    },
    {
     "data": {
      "text/plain": "defaultdict(list, {'yellow': [1, 3], 'blue': [2, 4], 'red': [1]})"
     },
     "execution_count": 6,
     "metadata": {},
     "output_type": "execute_result"
    },
    {
     "data": {
      "text/plain": "[('blue', [2, 4]), ('red', [1]), ('yellow', [1, 3])]"
     },
     "execution_count": 6,
     "metadata": {},
     "output_type": "execute_result"
    },
    {
     "data": {
      "text/plain": "{'yellow': [1, 3], 'blue': [2, 4], 'red': [1]}"
     },
     "execution_count": 6,
     "metadata": {},
     "output_type": "execute_result"
    }
   ],
   "source": [
    "from collections import defaultdict\n",
    "\n",
    "s = [('yellow', 1), ('blue', 2), ('yellow', 3), ('blue', 4), ('red', 1)]\n",
    "d = defaultdict(list)\n",
    "for k, v in s:\n",
    "    d[k].append(v)\n",
    "sorted(d.items())\n",
    "d\n",
    "\n",
    "d2 = {}\n",
    "for k, v in s:\n",
    "    d2.setdefault(k, []).append(v)\n",
    "\n",
    "sorted(d2.items())\n",
    "d2"
   ],
   "metadata": {
    "collapsed": false
   }
  },
  {
   "cell_type": "code",
   "execution_count": 7,
   "outputs": [
    {
     "data": {
      "text/plain": "[('i', 4), ('m', 1), ('p', 2), ('s', 4)]"
     },
     "execution_count": 7,
     "metadata": {},
     "output_type": "execute_result"
    }
   ],
   "source": [
    "s = 'mississippi'\n",
    "d = defaultdict(int)\n",
    "for k in s:\n",
    "    d[k] += 1\n",
    "\n",
    "sorted(d.items())\n"
   ],
   "metadata": {
    "collapsed": false
   }
  },
  {
   "cell_type": "code",
   "execution_count": 8,
   "outputs": [
    {
     "data": {
      "text/plain": "'John ran to <missing>'"
     },
     "execution_count": 8,
     "metadata": {},
     "output_type": "execute_result"
    }
   ],
   "source": [
    "def constant_factory(value):\n",
    "    return lambda: value\n",
    "d = defaultdict(constant_factory('<missing>'))\n",
    "d.update(name='John', action='ran')\n",
    "'%(name)s %(action)s to %(object)s' % d"
   ],
   "metadata": {
    "collapsed": false
   }
  },
  {
   "cell_type": "code",
   "execution_count": 9,
   "outputs": [
    {
     "data": {
      "text/plain": "[('blue', {2, 4}), ('red', {1, 3})]"
     },
     "execution_count": 9,
     "metadata": {},
     "output_type": "execute_result"
    }
   ],
   "source": [
    "s = [('red', 1), ('blue', 2), ('red', 3), ('blue', 4), ('red', 1), ('blue', 4)]\n",
    "d = defaultdict(set)\n",
    "for k, v in s:\n",
    "    d[k].add(v)\n",
    "\n",
    "sorted(d.items())"
   ],
   "metadata": {
    "collapsed": false
   }
  },
  {
   "cell_type": "code",
   "execution_count": 25,
   "outputs": [
    {
     "data": {
      "text/plain": "[[0, 0, 0, 0, 0, 0, 0, 0, 0],\n [0, 0, 0, 0, 0, 0, 0, 0, 0],\n [0, 0, 0, 0, 0, 0, 0, 0, 0],\n [0, 0, 0, 0, 0, 0, 0, 0, 0],\n [0, 0, 0, 0, 0, 0, 0, 0, 0],\n [0, 0, 0, 0, 0, 0, 0, 0, 0],\n [0, 0, 0, 0, 0, 0, 0, 0, 0],\n [0, 0, 0, 0, 0, 0, 0, 0, 0],\n [0, 0, 0, 0, 0, 0, 0, 0, 0]]"
     },
     "execution_count": 25,
     "metadata": {},
     "output_type": "execute_result"
    },
    {
     "data": {
      "text/plain": "[[[0, 0, 0, 0, 0, 0, 0, 0, 0],\n  [0, 0, 0, 0, 0, 0, 0, 0, 0],\n  [0, 0, 0, 0, 0, 0, 0, 0, 0]],\n [[0, 0, 0, 0, 0, 0, 0, 0, 0],\n  [0, 0, 0, 0, 0, 0, 0, 0, 0],\n  [0, 0, 0, 0, 0, 0, 0, 0, 0]],\n [[0, 0, 0, 0, 0, 0, 0, 0, 0],\n  [0, 0, 0, 0, 0, 0, 0, 0, 0],\n  [0, 0, 0, 0, 0, 0, 0, 0, 0]]]"
     },
     "execution_count": 25,
     "metadata": {},
     "output_type": "execute_result"
    }
   ],
   "source": [
    "[[0] * 9 for _ in range(9) ]\n",
    "[[[0] * 9 for _ in range(3)] for _ in range(3)]"
   ],
   "metadata": {
    "collapsed": false
   }
  },
  {
   "cell_type": "code",
   "execution_count": 10,
   "outputs": [
    {
     "data": {
      "text/plain": "True"
     },
     "execution_count": 10,
     "metadata": {},
     "output_type": "execute_result"
    },
    {
     "data": {
      "text/plain": "'ndib'"
     },
     "execution_count": 10,
     "metadata": {},
     "output_type": "execute_result"
    },
    {
     "data": {
      "text/plain": "'nibd'"
     },
     "execution_count": 10,
     "metadata": {},
     "output_type": "execute_result"
    }
   ],
   "source": [
    "a = set('bdni')\n",
    "b = set('nidb')\n",
    "a==b\n",
    "''.join(a)\n",
    "''.join(b)"
   ],
   "metadata": {
    "collapsed": false
   }
  }
 ],
 "metadata": {
  "kernelspec": {
   "display_name": "Python 3",
   "language": "python",
   "name": "python3"
  },
  "language_info": {
   "codemirror_mode": {
    "name": "ipython",
    "version": 2
   },
   "file_extension": ".py",
   "mimetype": "text/x-python",
   "name": "python",
   "nbconvert_exporter": "python",
   "pygments_lexer": "ipython2",
   "version": "2.7.6"
  }
 },
 "nbformat": 4,
 "nbformat_minor": 0
}
