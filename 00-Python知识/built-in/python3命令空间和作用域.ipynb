{
 "cells": [
  {
   "cell_type": "markdown",
   "source": [
    "> 参考：https://www.runoob.com/python3/python3-namespace-scope.html"
   ],
   "metadata": {
    "collapsed": false,
    "pycharm": {
     "name": "#%% md\n"
    }
   }
  },
  {
   "cell_type": "code",
   "execution_count": 6,
   "outputs": [],
   "source": [
    "from IPython.core.interactiveshell import InteractiveShell\n",
    "InteractiveShell.ast_node_interactivity = 'all'"
   ],
   "metadata": {
    "collapsed": false,
    "pycharm": {
     "name": "#%%\n"
    }
   }
  },
  {
   "cell_type": "markdown",
   "source": [
    "# 命名空间\n",
    "一般有三种命名空间：\n",
    "\n",
    "- 内置名称（built-in names），\n",
    "    Python 语言内置的名称，比如函数名 abs、char 和异常名称 BaseException、Exception 等等。\n",
    "- 全局名称（global names），\n",
    "    模块中定义的名称，记录了模块的变量，包括函数、类、其它导入的模块、模块级的变量和常量。\n",
    "- 局部名称（local names），\n",
    "    函数中定义的名称，记录了函数的变量，包括函数的参数和局部定义的变量。（类中定义的也是）\n",
    "\n",
    "命名空间查找顺序:\n",
    "\n",
    "假设我们要使用变量 runoob，则 Python 的查找顺序为：局部的命名空间 -> 全局命名空间 -> 内置命名空间。\n",
    "\n",
    "如果找不到变量 runoob，它将放弃查找并引发一个 NameError 异常:"
   ],
   "metadata": {
    "collapsed": false,
    "pycharm": {
     "name": "#%% md\n"
    }
   }
  },
  {
   "cell_type": "markdown",
   "source": [
    "# 作用域\n",
    "变量的作用域决定了在哪一部分程序可以访问哪个特定的变量名称。\n",
    "\n",
    "1. Python 的作用域一共有4种，分别是：\n",
    "- L（Local）：\n",
    "    - 最内层，包含局部变量，比如一个函数/方法内部。\n",
    "- E（Enclosing）：\n",
    "    - 包含了非局部(non-local)也非全局(non-global)的变量。\n",
    "    - 比如两个嵌套函数，一个函数（或类） A 里面又包含了一个函数 B ，那么对于 B 中的名称来说 A 中的作用域就为 nonlocal。\n",
    "- G（Global）：\n",
    "    - 当前脚本的最外层，比如当前模块的全局变量。\n",
    "- B（Built-in）：\n",
    "    - 包含了内建的变量/关键字等，最后被搜索。"
   ],
   "metadata": {
    "collapsed": false,
    "pycharm": {
     "name": "#%% md\n"
    }
   }
  },
  {
   "cell_type": "code",
   "execution_count": null,
   "outputs": [],
   "source": [
    "g_count = 0  # 全局作用域\n",
    "\n",
    "\n",
    "def outer():\n",
    "    o_count = 1  # 闭包函数外的函数中\n",
    "\n",
    "    def inner():\n",
    "        i_count = 2  # 局部作用域"
   ],
   "metadata": {
    "collapsed": false,
    "pycharm": {
     "name": "#%%\n"
    }
   }
  },
  {
   "cell_type": "markdown",
   "source": [
    "2. Python 中只有模块（module），类（class）以及函数（def、lambda）才会引入新的作用域，\n",
    "其它的代码块（如 if/elif/else/、try/except、for/while等）是不会引入新的作用域的，也就是说这些语句内定义的变量，外部也可以访问，\n",
    "如下代码："
   ],
   "metadata": {
    "collapsed": false,
    "pycharm": {
     "name": "#%% md\n"
    }
   }
  },
  {
   "cell_type": "code",
   "execution_count": 7,
   "outputs": [
    {
     "data": {
      "text/plain": "'I am from Runoob'"
     },
     "execution_count": 7,
     "metadata": {},
     "output_type": "execute_result"
    }
   ],
   "source": [
    "if True:\n",
    "    msg = 'I am from Runoob'\n",
    "print(msg)\n",
    "\n",
    "\n",
    "def test():\n",
    "    msg_inner = 'I am from Runoob'\n",
    "\n",
    "# msg_inner\n",
    "# 从报错的信息上看，说明了 msg_inner 未定义，无法使用，因为它是局部变量，只有在函数内可以使用。"
   ],
   "metadata": {
    "collapsed": false,
    "pycharm": {
     "name": "#%%\n"
    }
   }
  },
  {
   "cell_type": "markdown",
   "source": [
    "# 全局变量和局部变量\n",
    "1. 定义在函数内部的变量拥有一个局部作用域，定义在函数外的拥有全局作用域。\n",
    "2. 局部变量只能在其被声明的函数内部访问，而全局变量可以在整个程序范围内访问。\n",
    "3. 调用函数时，所有在函数内声明的变量名称都将被加入到作用域中。\n",
    "如下实例："
   ],
   "metadata": {
    "collapsed": false,
    "pycharm": {
     "name": "#%% md\n"
    }
   }
  },
  {
   "cell_type": "code",
   "execution_count": 9,
   "outputs": [
    {
     "name": "stdout",
     "output_type": "stream",
     "text": [
      "函数内是局部变量 :  30\n"
     ]
    },
    {
     "data": {
      "text/plain": "30"
     },
     "execution_count": 9,
     "metadata": {},
     "output_type": "execute_result"
    },
    {
     "name": "stdout",
     "output_type": "stream",
     "text": [
      "函数外是全局变量 :  0\n"
     ]
    }
   ],
   "source": [
    "#!/usr/bin/python3\n",
    "\n",
    "total = 0  # 这是一个全局变量\n",
    "\n",
    "\n",
    "# 可写函数说明\n",
    "def sum(arg1, arg2):\n",
    "    #返回2个参数的和.\"\n",
    "    total = arg1 + arg2  # total在这里是局部变量.\n",
    "    print(\"函数内是局部变量 : \", total)\n",
    "    return total\n",
    "\n",
    "\n",
    "#调用sum函数\n",
    "sum(10, 20)\n",
    "print(\"函数外是全局变量 : \", total)"
   ],
   "metadata": {
    "collapsed": false,
    "pycharm": {
     "name": "#%%\n"
    }
   }
  },
  {
   "cell_type": "markdown",
   "source": [
    "# global 和 nonlocal关键字\n",
    "当内部作用域想修改外部作用域的变量时，就要用到 global 和 nonlocal 关键字了。\n"
   ],
   "metadata": {
    "collapsed": false,
    "pycharm": {
     "name": "#%% md\n"
    }
   }
  },
  {
   "cell_type": "code",
   "execution_count": 10,
   "outputs": [
    {
     "name": "stdout",
     "output_type": "stream",
     "text": [
      "1\n",
      "123\n",
      "123\n"
     ]
    }
   ],
   "source": [
    "# 以下实例修改全局变量 num：\n",
    "num = 1\n",
    "\n",
    "\n",
    "def fun1():\n",
    "    global num  # 需要使用 global 关键字声明\n",
    "    print(num)\n",
    "    num = 123\n",
    "    print(num)\n",
    "\n",
    "\n",
    "fun1()\n",
    "print(num)"
   ],
   "metadata": {
    "collapsed": false,
    "pycharm": {
     "name": "#%%\n"
    }
   }
  },
  {
   "cell_type": "code",
   "execution_count": 11,
   "outputs": [
    {
     "name": "stdout",
     "output_type": "stream",
     "text": [
      "100\n",
      "100\n"
     ]
    }
   ],
   "source": [
    "# 以下实例修改全局变量 num：\n",
    "def outer():\n",
    "    num = 10\n",
    "\n",
    "    def inner():\n",
    "        nonlocal num  # nonlocal关键字声明\n",
    "        num = 100\n",
    "        print(num)\n",
    "\n",
    "    inner()\n",
    "    print(num)\n",
    "\n",
    "\n",
    "outer()"
   ],
   "metadata": {
    "collapsed": false,
    "pycharm": {
     "name": "#%%\n"
    }
   }
  },
  {
   "cell_type": "code",
   "execution_count": 12,
   "outputs": [
    {
     "ename": "UnboundLocalError",
     "evalue": "local variable 'a' referenced before assignment",
     "output_type": "error",
     "traceback": [
      "\u001B[1;31m---------------------------------------------------------------------------\u001B[0m",
      "\u001B[1;31mUnboundLocalError\u001B[0m                         Traceback (most recent call last)",
      "Input \u001B[1;32mIn [12]\u001B[0m, in \u001B[0;36m<cell line: 6>\u001B[1;34m()\u001B[0m\n\u001B[0;32m      4\u001B[0m     a \u001B[38;5;241m=\u001B[39m a \u001B[38;5;241m+\u001B[39m \u001B[38;5;241m1\u001B[39m\n\u001B[0;32m      5\u001B[0m     \u001B[38;5;28mprint\u001B[39m(a)\n\u001B[1;32m----> 6\u001B[0m \u001B[43mtest\u001B[49m\u001B[43m(\u001B[49m\u001B[43m)\u001B[49m\n",
      "Input \u001B[1;32mIn [12]\u001B[0m, in \u001B[0;36mtest\u001B[1;34m()\u001B[0m\n\u001B[0;32m      3\u001B[0m \u001B[38;5;28;01mdef\u001B[39;00m \u001B[38;5;21mtest\u001B[39m():\n\u001B[1;32m----> 4\u001B[0m     a \u001B[38;5;241m=\u001B[39m \u001B[43ma\u001B[49m \u001B[38;5;241m+\u001B[39m \u001B[38;5;241m1\u001B[39m\n\u001B[0;32m      5\u001B[0m     \u001B[38;5;28mprint\u001B[39m(a)\n",
      "\u001B[1;31mUnboundLocalError\u001B[0m: local variable 'a' referenced before assignment"
     ]
    }
   ],
   "source": [
    "# 另外有一种特殊情况，假设下面这段代码被运行：\n",
    "a = 10\n",
    "\n",
    "\n",
    "def test():\n",
    "    a = a + 1\n",
    "    print(a)\n",
    "\n",
    "\n",
    "test()\n",
    "# 报错：UnboundLocalError: local variable 'a' referenced before assignment\n",
    "# 错误信息为局部作用域引用错误，因为 test 函数中的 a 使用的是局部，未定义，无法修改。"
   ],
   "metadata": {
    "collapsed": false,
    "pycharm": {
     "name": "#%%\n"
    }
   }
  },
  {
   "cell_type": "code",
   "execution_count": 13,
   "outputs": [
    {
     "name": "stdout",
     "output_type": "stream",
     "text": [
      "11\n"
     ]
    }
   ],
   "source": [
    "# 方法1：修改 a 为全局变量：\n",
    "a = 10\n",
    "\n",
    "\n",
    "def test():\n",
    "    global a\n",
    "    a = a + 1\n",
    "    print(a)\n",
    "\n",
    "\n",
    "test()\n"
   ],
   "metadata": {
    "collapsed": false,
    "pycharm": {
     "name": "#%%\n"
    }
   }
  },
  {
   "cell_type": "code",
   "execution_count": 14,
   "outputs": [
    {
     "name": "stdout",
     "output_type": "stream",
     "text": [
      "11\n"
     ]
    }
   ],
   "source": [
    "# 方法2：也可以通过函数参数传递：\n",
    "a = 10\n",
    "\n",
    "\n",
    "def test(a):\n",
    "    a = a + 1\n",
    "    print(a)\n",
    "\n",
    "\n",
    "test(a)"
   ],
   "metadata": {
    "collapsed": false,
    "pycharm": {
     "name": "#%%\n"
    }
   }
  },
  {
   "cell_type": "markdown",
   "source": [
    "# 可更改(mutable)与不可更改(immutable)对象\n",
    "## 在 python 中，strings, tuples, 和 numbers 是不可更改的对象，而 list,dict 等则是可以修改的对象。\n",
    "\n",
    "- 不可变类型：变量赋值 a=5 后再赋值 a=10，这里实际是新生成一个 int 值对象 10，再让 a 指向它，而 5 被丢弃，不是改变 a 的值，相当于新生成了 a。\n",
    "- 可变类型：变量赋值 la=[1,2,3,4] 后再赋值 la[2]=5 则是将 list la 的第三个元素值更改，本身la没有动，只是其内部的一部分值被修改了。\n",
    "\n",
    "## python 函数的参数传递：\n",
    "- 不可变类型：类似 C++ 的值传递，如整数、字符串、元组。如 fun(a)，传递的只是 a 的值，没有影响 a 对象本身。\n",
    "    - 如果在 fun(a) 内部修改 a 的值，则是新生成一个 a 的对象。\n",
    "\n",
    "- 可变类型：类似 C++ 的引用传递，如 列表，字典。如 fun(la)，则是将 la 真正的传过去，\n",
    "    - 修改后 fun 外部的 la 也会受影响\n",
    "\n",
    "python 中一切都是对象，严格意义我们不能说值传递还是引用传递，我们应该说传不可变对象和传可变对象。"
   ],
   "metadata": {
    "collapsed": false,
    "pycharm": {
     "name": "#%% md\n"
    }
   }
  },
  {
   "cell_type": "code",
   "execution_count": 3,
   "outputs": [
    {
     "name": "stdout",
     "output_type": "stream",
     "text": [
      "2739633613104\n",
      "2739633613104\n",
      "2739633613392\n"
     ]
    }
   ],
   "source": [
    "# python 传不可变对象实例\n",
    "# 通过 id() 函数来查看内存地址变化\n",
    "def change(a):\n",
    "    print(id(a))  # 指向的是同一个对象\n",
    "    a = 10\n",
    "    print(id(a))  # 一个新对象\n",
    "\n",
    "\n",
    "a = 1\n",
    "print(id(a))\n",
    "change(a)\n",
    "# 可以看见在调用函数前后，形参和实参指向的是同一个对象（对象 id 相同），在函数内部修改形参后，形参指向的是不同的 id。"
   ],
   "metadata": {
    "collapsed": false,
    "pycharm": {
     "name": "#%%\n"
    }
   }
  },
  {
   "cell_type": "code",
   "execution_count": 4,
   "outputs": [
    {
     "name": "stdout",
     "output_type": "stream",
     "text": [
      "函数内取值:  [10, 20, 30, [1, 2, 3, 4]]\n",
      "函数外取值:  [10, 20, 30, [1, 2, 3, 4]]\n"
     ]
    }
   ],
   "source": [
    "# 传可变对象实例\n",
    "# 可变对象在函数里修改了参数，那么在调用这个函数的函数里，原始的参数也被改变了。例如：\n",
    "# 可写函数说明\n",
    "def changeme(mylist):\n",
    "    # \"修改传入的列表\"\n",
    "    mylist.append([1, 2, 3, 4])\n",
    "    print(\"函数内取值: \", mylist)\n",
    "    return\n",
    "\n",
    "\n",
    "# 调用changeme函数\n",
    "mylist = [10, 20, 30]\n",
    "changeme(mylist)\n",
    "print(\"函数外取值: \", mylist)\n",
    "\n",
    "# 传入函数的和在末尾添加新内容的对象用的是同一个引用"
   ],
   "metadata": {
    "collapsed": false,
    "pycharm": {
     "name": "#%%\n"
    }
   }
  },
  {
   "cell_type": "code",
   "execution_count": 5,
   "outputs": [
    {
     "data": {
      "text/plain": "[0, 0, 0]"
     },
     "execution_count": 5,
     "metadata": {},
     "output_type": "execute_result"
    }
   ],
   "source": [
    "lst = []\n",
    "def fun():\n",
    "    # lst.append(1)\n",
    "    global lst\n",
    "    lst = [0] * 3\n",
    "\n",
    "fun()\n",
    "lst"
   ],
   "metadata": {
    "collapsed": false,
    "pycharm": {
     "name": "#%%\n"
    }
   }
  }
 ],
 "metadata": {
  "kernelspec": {
   "display_name": "Python 3",
   "language": "python",
   "name": "python3"
  },
  "language_info": {
   "codemirror_mode": {
    "name": "ipython",
    "version": 2
   },
   "file_extension": ".py",
   "mimetype": "text/x-python",
   "name": "python",
   "nbconvert_exporter": "python",
   "pygments_lexer": "ipython2",
   "version": "2.7.6"
  }
 },
 "nbformat": 4,
 "nbformat_minor": 0
}