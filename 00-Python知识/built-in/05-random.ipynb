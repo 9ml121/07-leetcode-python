{
 "cells": [
  {
   "cell_type": "code",
   "execution_count": 1,
   "metadata": {
    "collapsed": true
   },
   "outputs": [],
   "source": [
    "from IPython.core.interactiveshell import InteractiveShell\n",
    "InteractiveShell.ast_node_interactivity = 'all'"
   ]
  },
  {
   "cell_type": "markdown",
   "source": [
    "# Random随机数"
   ],
   "metadata": {
    "collapsed": false
   }
  },
  {
   "cell_type": "code",
   "execution_count": 1,
   "outputs": [],
   "source": [
    "import random\n",
    "# 选择可以重复的随机整机\n",
    "repeat = [random.randint(0, 6) for _ in range(7)]\n",
    "\n",
    "# 随机选择1 个数，randint的参数是randint(a,b)， 代表在 range(a, b+1)直接随机取一个数\n",
    "random.randint(0, 2)\n",
    "# 随机选择 1 个数, choice的参数是可迭代对象\n",
    "random.choice(range(0,3))\n",
    "# 上面 2 种写法等价\n"
   ],
   "metadata": {
    "collapsed": false
   }
  },
  {
   "cell_type": "code",
   "execution_count": 8,
   "outputs": [
    {
     "data": {
      "text/plain": "[7, 3, 4, 0, 8, 2]"
     },
     "execution_count": 8,
     "metadata": {},
     "output_type": "execute_result"
    },
    {
     "data": {
      "text/plain": "['red', 'red', 'blue', 'red', 'blue']"
     },
     "execution_count": 8,
     "metadata": {},
     "output_type": "execute_result"
    },
    {
     "data": {
      "text/plain": "['red', 'red', 'red', 'blue', 'blue']"
     },
     "execution_count": 8,
     "metadata": {},
     "output_type": "execute_result"
    }
   ],
   "source": [
    "# 选择不重复的随机整数\n",
    "nonRepeat = random.sample(range(10), 6)  # 从0到9中随机选择10个数，保证不重复\n",
    "nonRepeat\n",
    "random.sample(['red', 'red', 'red', 'red', 'blue', 'blue'], k=5)\n",
    "random.sample(['red', 'blue'], counts=[4, 2], k=5)\n"
   ],
   "metadata": {
    "collapsed": false
   }
  },
  {
   "cell_type": "code",
   "execution_count": 25,
   "outputs": [
    {
     "data": {
      "text/plain": "3"
     },
     "execution_count": 25,
     "metadata": {},
     "output_type": "execute_result"
    }
   ],
   "source": [
    "lst = [1,2,3,4]\n",
    "random.choice(lst)\n",
    "\n",
    "hs = {1,2,3,4}\n",
    "random.choice(list(hs))"
   ],
   "metadata": {
    "collapsed": false
   }
  },
  {
   "cell_type": "code",
   "execution_count": null,
   "outputs": [],
   "source": [],
   "metadata": {
    "collapsed": false
   }
  }
 ],
 "metadata": {
  "kernelspec": {
   "display_name": "Python 3",
   "language": "python",
   "name": "python3"
  },
  "language_info": {
   "codemirror_mode": {
    "name": "ipython",
    "version": 2
   },
   "file_extension": ".py",
   "mimetype": "text/x-python",
   "name": "python",
   "nbconvert_exporter": "python",
   "pygments_lexer": "ipython2",
   "version": "2.7.6"
  }
 },
 "nbformat": 4,
 "nbformat_minor": 0
}
