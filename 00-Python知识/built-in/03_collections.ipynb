{
 "cells": [
  {
   "cell_type": "code",
   "execution_count": 11,
   "outputs": [],
   "source": [
    "from IPython.core.interactiveshell import InteractiveShell\n",
    "\n",
    "InteractiveShell.ast_node_interactivity = 'all'"
   ],
   "metadata": {
    "collapsed": false
   }
  },
  {
   "cell_type": "markdown",
   "source": [
    "# defaultdict"
   ],
   "metadata": {
    "collapsed": false
   }
  },
  {
   "cell_type": "markdown",
   "source": [
    "1. 使用 list 作为 default_factory，很轻松地将（键-值对组成的）序列转换为（键-列表组成的）字典："
   ],
   "metadata": {
    "collapsed": false
   }
  },
  {
   "cell_type": "code",
   "execution_count": 1,
   "outputs": [
    {
     "data": {
      "text/plain": "[('blue', [2, 4]), ('red', [1]), ('yellow', [1, 3])]"
     },
     "execution_count": 1,
     "metadata": {},
     "output_type": "execute_result"
    }
   ],
   "source": [
    "from collections import defaultdict\n",
    "\n",
    "s = [('yellow', 1), ('blue', 2), ('yellow', 3), ('blue', 4), ('red', 1)]\n",
    "d = defaultdict(list)\n",
    "for k, v in s:\n",
    "    d[k].append(v)\n",
    "\n",
    "sorted(d.items())"
   ],
   "metadata": {
    "collapsed": false
   }
  },
  {
   "cell_type": "markdown",
   "source": [
    "- 当每个键第一次遇见时，它还没有在字典里面，所以自动创建该条目，即调用 default_factory 方法，返回一个空的 list。\n",
    "- list.append() 操作添加值到这个新的列表里。当再次存取该键时，就正常操作，list.append() 添加另一个值到列表中。\n",
    "- 这个计数比它的等价方法 dict.setdefault() 要快速和简单："
   ],
   "metadata": {
    "collapsed": false
   }
  },
  {
   "cell_type": "code",
   "execution_count": 2,
   "outputs": [
    {
     "data": {
      "text/plain": "[('blue', [2, 4]), ('red', [1]), ('yellow', [1, 3])]"
     },
     "execution_count": 2,
     "metadata": {},
     "output_type": "execute_result"
    }
   ],
   "source": [
    "d = {}\n",
    "for k, v in s:\n",
    "    d.setdefault(k, []).append(v)\n",
    "\n",
    "sorted(d.items())"
   ],
   "metadata": {
    "collapsed": false
   }
  },
  {
   "cell_type": "markdown",
   "source": [
    "2. 设置 default_factory 为 int，使 defaultdict 用于计数（类似其他语言中的 bag 或 multiset）："
   ],
   "metadata": {
    "collapsed": false
   }
  },
  {
   "cell_type": "code",
   "execution_count": 4,
   "outputs": [
    {
     "data": {
      "text/plain": "[('i', 4), ('m', 1), ('p', 2), ('s', 4)]"
     },
     "execution_count": 4,
     "metadata": {},
     "output_type": "execute_result"
    }
   ],
   "source": [
    "s = 'mississippi'\n",
    "d = defaultdict(int)\n",
    "for k in s:\n",
    "    d[k] += 1\n",
    "\n",
    "sorted(d.items())"
   ],
   "metadata": {
    "collapsed": false
   }
  },
  {
   "cell_type": "markdown",
   "source": [
    "- 当一个字母首次遇到时，它会查询失败，则 default_factory 会调用 int() 来提供一个整数 0 作为默认值。\n",
    "- 后续的自增操作建立起对每个字母的计数。\n",
    "- 函数 int() 总是返回 0，这是常数函数的特殊情况。\n",
    "- 一个更快和灵活的方法是使用 lambda 函数，可以提供任何常量值（不只是0）："
   ],
   "metadata": {
    "collapsed": false
   }
  },
  {
   "cell_type": "code",
   "execution_count": 5,
   "outputs": [
    {
     "data": {
      "text/plain": "'John ran to <missing>'"
     },
     "execution_count": 5,
     "metadata": {},
     "output_type": "execute_result"
    }
   ],
   "source": [
    "def constant_factory(value):\n",
    "    return lambda: value\n",
    "\n",
    "\n",
    "d = defaultdict(constant_factory('<missing>'))\n",
    "d.update(name='John', action='ran')\n",
    "'%(name)s %(action)s to %(object)s' % d"
   ],
   "metadata": {
    "collapsed": false
   }
  },
  {
   "cell_type": "markdown",
   "source": [
    "## 自定义defaultdict的默认值\n",
    "defaultdict  还可以接受一个函数作为参数，用于动态生成默认值。\n",
    "\n",
    "例如，下面是一个使用  lambda  函数作为默认值生成器的示例"
   ],
   "metadata": {
    "collapsed": false
   }
  },
  {
   "cell_type": "code",
   "execution_count": 14,
   "outputs": [
    {
     "name": "stdout",
     "output_type": "stream",
     "text": [
      "None\n"
     ]
    },
    {
     "data": {
      "text/plain": "-1"
     },
     "execution_count": 14,
     "metadata": {},
     "output_type": "execute_result"
    },
    {
     "name": "stdout",
     "output_type": "stream",
     "text": [
      "defaultdict(<class 'int'>, {'a': 1, 'b': 2, 'c': 3})\n",
      "defaultdict(<function <lambda> at 0x7f910a848820>, {'a': [1], 'b': [2], 'c': [3]})\n"
     ]
    }
   ],
   "source": [
    "# 创建一个名为 defaultdict 的 defaultdict 对象,其默认值为 -1\n",
    "from collections import defaultdict\n",
    "\n",
    "d = defaultdict(lambda: -1)\n",
    "print(d.get(1))  # None\n",
    "d[2]  # -1\n",
    "\n",
    "d = defaultdict(lambda: None)\n",
    "d[2]  # None\n",
    "\n",
    "# 创建一个 defaultdict 对象，设置默认值为 0\n",
    "d = defaultdict(int)\n",
    "# 访问一个不存在的键，会自动创建一个默认值\n",
    "d['a'] += 1\n",
    "d['b'] += 2\n",
    "d['c'] += 3\n",
    "# 输出结果\n",
    "print(d)  # defaultdict(<class 'int'>, {'a': 1, 'b': 2, 'c': 3})\n",
    "\n",
    "# 创建一个 defaultdict 对象，设置默认值生成器为 lambda 函数\n",
    "d = defaultdict(lambda: [])\n",
    "# 等价于\n",
    "# d = defaultdict(list)\n",
    "# 访问一个不存在的键，会自动创建一个空列表作为默认值\n",
    "d['a'].append(1)\n",
    "d['b'].append(2)\n",
    "d['c'].append(3)\n",
    "# 输出结果\n",
    "print(d)  # defaultdict(<function <lambda> at 0x7f9c3a7f8d08>, {'a': [1], 'b': [2], 'c': [3]})"
   ],
   "metadata": {
    "collapsed": false
   }
  },
  {
   "cell_type": "code",
   "execution_count": 26,
   "outputs": [
    {
     "data": {
      "text/plain": "[('A', 1), ('B', 2), ('C', 2), ('E', 0)]"
     },
     "execution_count": 26,
     "metadata": {},
     "output_type": "execute_result"
    },
    {
     "data": {
      "text/plain": "4"
     },
     "execution_count": 26,
     "metadata": {},
     "output_type": "execute_result"
    },
    {
     "data": {
      "text/plain": "False"
     },
     "execution_count": 26,
     "metadata": {},
     "output_type": "execute_result"
    }
   ],
   "source": [
    "t = \"CABBC\"\n",
    "dic_t = defaultdict(int)\n",
    "for ch in t:\n",
    "    dic_t[ch] += 1\n",
    "\n",
    "# dic_t['D'] == 0\n",
    "dic_t['E'] = 0\n",
    "sorted(dic_t.items())\n",
    "len(dic_t)\n",
    "'D' in dic_t"
   ],
   "metadata": {
    "collapsed": false
   }
  },
  {
   "cell_type": "markdown",
   "source": [
    "3. 设置 default_factory 为 set 使 defaultdict 用于构建 set 集合："
   ],
   "metadata": {
    "collapsed": false
   }
  },
  {
   "cell_type": "code",
   "execution_count": 6,
   "outputs": [
    {
     "data": {
      "text/plain": "[('blue', {2, 4}), ('red', {1, 3})]"
     },
     "execution_count": 6,
     "metadata": {},
     "output_type": "execute_result"
    }
   ],
   "source": [
    "s = [('red', 1), ('blue', 2), ('red', 3), ('blue', 4), ('red', 1), ('blue', 4)]\n",
    "d = defaultdict(set)\n",
    "for k, v in s:\n",
    "    d[k].add(v)\n",
    "\n",
    "sorted(d.items())"
   ],
   "metadata": {
    "collapsed": false
   }
  },
  {
   "cell_type": "markdown",
   "source": [
    "# deque 对象\n",
    "\n",
    "deque底层实现是一个双向链表，虽然它支持在队列两端进行O(1)的添加和删除操作，\n",
    "\n",
    "但是在中间位置进行删除操作时，需要先遍历链表找到要删除的元素，然后再进行删除操作，因此时间复杂度是O(n)。"
   ],
   "metadata": {
    "collapsed": false
   }
  },
  {
   "cell_type": "markdown",
   "source": [
    "class collections.deque([iterable[, maxlen]])\n",
    "\n",
    "- 返回一个新的双向队列对象，从左到右初始化(用方法 append()) ，从 iterable （迭代对象) 数据创建。如果 iterable 没有指定，新队列为空。\n",
    "\n",
    "- Deque队列是由栈或者queue队列生成的（发音是 “deck”，”double-ended queue”的简称）。Deque 支持线程安全，内存高效添加(append)和弹出(pop)，从两端都可以，两个方向的大概开销都是 O(1) 复杂度。\n",
    "\n",
    "- 虽然 list 对象也支持类似操作，不过这里优化了定长操作和 pop(0) 和 insert(0, v) 的开销。它们引起 O(n) 内存移动的操作，改变底层数据表达的大小和位置。\n",
    "\n",
    "- 如果 maxlen 没有指定或者是 None ，deques 可以增长到任意长度。否则，deque就限定到指定最大长度。一旦限定长度的deque满了，当新项加入时，同样数量的项就从另一端弹出。限定长度deque提供类似Unix filter tail 的功能。它们同样可以用与追踪最近的交换和其他数据池活动。\n",
    "\n",
    "- 双向队列(deque)对象支持以下方法：\n",
    "\n",
    "    - append(x)\n",
    "    添加 x 到右端。\n",
    "\n",
    "    - appendleft(x)\n",
    "    添加 x 到左端。\n",
    "\n",
    "    - clear()\n",
    "    移除所有元素，使其长度为0.\n",
    "\n",
    "    - pop()\n",
    "    移去并且返回一个元素，deque 最右侧的那一个。 如果没有元素的话，就引发一个 IndexError。\n",
    "\n",
    "    - popleft()\n",
    "    移去并且返回一个元素，deque 最左侧的那一个。 如果没有元素的话，就引发 IndexError。\n",
    "\n",
    "    - remove(value)\n",
    "    移除找到的第一个 value。 如果没有的话就引发 ValueError。\n",
    "\n",
    "    - reverse()\n",
    "    将deque逆序排列。返回 None 。\n",
    "\n",
    "    - count(x)\n",
    "    计算 deque 中元素等于 x 的个数。\n",
    "\n",
    "    - extend(iterable)\n",
    "    扩展deque的右侧，通过添加iterable参数中的元素。\n",
    "\n",
    "    - extendleft(iterable)\n",
    "    扩展deque的左侧，通过添加iterable参数中的元素。注意，左添加时，在结果中iterable参数中的顺序将被反过来添加。\n",
    "\n",
    "    - index(x[, start[, stop]])\n",
    "    返回 x 在 deque 中的位置（在索引 start 之后，索引 stop 之前）。 返回第一个匹配项，如果未找到则引"
   ],
   "metadata": {
    "collapsed": false
   }
  },
  {
   "cell_type": "code",
   "execution_count": 14,
   "outputs": [
    {
     "data": {
      "text/plain": "2"
     },
     "execution_count": 14,
     "metadata": {},
     "output_type": "execute_result"
    }
   ],
   "source": [
    "from collections import deque\n",
    "\n",
    "dq = deque()\n",
    "dq.append(1)\n",
    "dq.appendleft(2)\n",
    "dq[0]\n",
    "sorted()"
   ],
   "metadata": {
    "collapsed": false
   }
  },
  {
   "cell_type": "markdown",
   "source": [
    "# Counter 对象\n",
    "一个计数器工具提供快速和方便的计数。比如"
   ],
   "metadata": {
    "collapsed": false
   }
  },
  {
   "cell_type": "markdown",
   "source": [
    "class collections.Counter([iterable-or-mapping])\n",
    "A Counter is a dict subclass for counting hashable objects. It is a collection where elements are stored as dictionary keys and their counts are stored as dictionary values. Counts are allowed to be any integer value including zero or negative counts. The Counter class is similar to bags or multisets in other languages.\n",
    "\n",
    "元素从一个 iterable 被计数或从其他的 mapping (or counter)初始化："
   ],
   "metadata": {
    "collapsed": false
   }
  },
  {
   "cell_type": "code",
   "execution_count": 1,
   "outputs": [
    {
     "data": {
      "text/plain": "True"
     },
     "execution_count": 1,
     "metadata": {},
     "output_type": "execute_result"
    }
   ],
   "source": [
    "from collections import Counter\n",
    "\n",
    "c = Counter()  # a new, empty counter\n",
    "c = Counter('gallahad')  # a new counter from an iterable\n",
    "dict(c)  # {'g': 1, 'a': 3, 'l': 2, 'h': 1, 'd': 1}\n",
    "c = Counter({'red': 4, 'blue': 2})  # a new counter from a mapping\n",
    "dict(c)  # {'red': 4, 'blue': 2}\n",
    "c = Counter(cats=4, dogs=8)  # a new counter from keyword args\n",
    "dict(c)  # {'cats': 4, 'dogs': 8}\n",
    "\n",
    "'cats' in c"
   ],
   "metadata": {
    "collapsed": false
   }
  },
  {
   "cell_type": "markdown",
   "source": [
    "Counter对象有一个字典接口，如果引用的键没有任何记录，就返回一个0，而不是弹出一个 KeyError :"
   ],
   "metadata": {
    "collapsed": false
   }
  },
  {
   "cell_type": "code",
   "execution_count": 3,
   "outputs": [
    {
     "data": {
      "text/plain": "0"
     },
     "execution_count": 3,
     "metadata": {},
     "output_type": "execute_result"
    }
   ],
   "source": [
    "c = Counter(['eggs', 'ham'])\n",
    "c['bacon']  # count of a missing element is zero\n",
    "\n",
    "# 设置一个计数为0不会从计数器中移去一个元素。使用 del 来删除它:\n",
    "c['sausage'] = 0  # counter entry with a zero count\n",
    "c  # Counter({'eggs': 1, 'ham': 1, 'sausage': 0})\n",
    "del c['sausage']  # del actually removes the entry\n",
    "c  # Counter({'eggs': 1, 'ham': 1})"
   ],
   "metadata": {
    "collapsed": false
   }
  },
  {
   "cell_type": "markdown",
   "source": [
    "Counter 对象在对所有字典可用的方法以外还支持一些附加方法:\n",
    "elements()\n",
    "返回一个迭代器，其中每个元素将重复出现计数值所指定次。\n",
    "元素会按首次出现的顺序返回。\n",
    "如果一个元素的计数值小于一，elements() 将会忽略它。\n",
    "\n",
    "most_common([n])\n",
    "返回一个列表，其中包含 n 个最常见的元素及出现次数，按常见程度由高到低排序。\n",
    "如果 n 被省略或为 None，most_common() 将返回计数器中的 所有 元素。\n",
    "计数值相等的元素按首次出现的顺序排序：\n",
    "\n",
    "subtract([iterable-or-mapping])\n",
    "从 迭代对象 或 映射对象 减去元素。像 dict.update() 但是是减去，而不是替换。输入和输出都可以是0或者负数。"
   ],
   "metadata": {
    "collapsed": false
   }
  },
  {
   "cell_type": "code",
   "execution_count": 9,
   "outputs": [
    {
     "data": {
      "text/plain": "['a', 'a', 'a', 'a', 'b', 'b']"
     },
     "execution_count": 9,
     "metadata": {},
     "output_type": "execute_result"
    }
   ],
   "source": [
    "c = Counter(a=4, b=2, c=0, d=-2)\n",
    "sorted(c.elements())  # ['a', 'a', 'a', 'a', 'b', 'b']"
   ],
   "metadata": {
    "collapsed": false
   }
  },
  {
   "cell_type": "code",
   "execution_count": 10,
   "outputs": [
    {
     "data": {
      "text/plain": "[('a', 5), ('b', 2), ('r', 2)]"
     },
     "execution_count": 10,
     "metadata": {},
     "output_type": "execute_result"
    }
   ],
   "source": [
    "Counter('abracadabra').most_common(3)  # [('a', 5), ('b', 2), ('r', 2)]"
   ],
   "metadata": {
    "collapsed": false
   }
  },
  {
   "cell_type": "code",
   "execution_count": 11,
   "outputs": [
    {
     "data": {
      "text/plain": "Counter({'a': 3, 'b': 0, 'c': -3, 'd': -6})"
     },
     "execution_count": 11,
     "metadata": {},
     "output_type": "execute_result"
    }
   ],
   "source": [
    "c = Counter(a=4, b=2, c=0, d=-2)\n",
    "d = Counter(a=1, b=2, c=3, d=4)\n",
    "c.subtract(d)\n",
    "c  # Counter({'a': 3, 'b': 0, 'c': -3, 'd': -6})"
   ],
   "metadata": {
    "collapsed": false
   }
  },
  {
   "cell_type": "markdown",
   "source": [],
   "metadata": {
    "collapsed": false
   }
  },
  {
   "cell_type": "code",
   "execution_count": 20,
   "outputs": [
    {
     "data": {
      "text/plain": "[]"
     },
     "execution_count": 20,
     "metadata": {},
     "output_type": "execute_result"
    },
    {
     "data": {
      "text/plain": "set()"
     },
     "execution_count": 20,
     "metadata": {},
     "output_type": "execute_result"
    },
    {
     "data": {
      "text/plain": "{}"
     },
     "execution_count": 20,
     "metadata": {},
     "output_type": "execute_result"
    },
    {
     "data": {
      "text/plain": "dict_items([])"
     },
     "execution_count": 20,
     "metadata": {},
     "output_type": "execute_result"
    },
    {
     "data": {
      "text/plain": "Counter({'a': 'b', 1: 3})"
     },
     "execution_count": 20,
     "metadata": {},
     "output_type": "execute_result"
    },
    {
     "data": {
      "text/plain": "[]"
     },
     "execution_count": 20,
     "metadata": {},
     "output_type": "execute_result"
    },
    {
     "data": {
      "text/plain": "Counter()"
     },
     "execution_count": 20,
     "metadata": {},
     "output_type": "execute_result"
    }
   ],
   "source": [
    "c = Counter('abcdeabcdabcaba')  # count elements from a string\n",
    "c.most_common(3)  # three most common elements\n",
    "# [('a', 5), ('b', 4), ('c', 3)]\n",
    "sorted(c)  # list all unique elements\n",
    "# ['a', 'b', 'c', 'd', 'e']\n",
    "''.join(sorted(c.elements()))  # list elements with repetitions\n",
    "# 'aaaaabbbbcccdde'\n",
    "sum(c.values())\n",
    "#  15\n",
    "for elem in 'shazam':  # update counts from an iterable\n",
    "    c[elem] += 1  # by adding 1 to each element's count\n",
    "c['a']  # now there are seven 'a'\n",
    "# 7\n",
    "del c['b']  # remove all 'b'\n",
    "c['b']  # now there are zero 'b'\n",
    "# 0\n",
    "\n",
    "d = Counter('simsalabim')  # make another counter\n",
    "c.update(d)  # add in the second counter\n",
    "c['a']  # now there are nine 'a'\n",
    "# 9\n",
    "\n",
    "c.clear()  # empty the counter\n",
    "c\n",
    "# Counter()"
   ],
   "metadata": {
    "collapsed": false
   }
  },
  {
   "cell_type": "markdown",
   "source": [
    "# OrderedDict\n",
    "\n",
    "- OrderedDict底层是通过维护一个双向链表来实现的。\n",
    "- 这个链表中的每个节点都包含了键值对的信息，以及指向前一个节点和后一个节点的指针。\n",
    "\n",
    "1. 具体来说，OrderedDict维护了一个名为_map的字典，其中键是元素的键，值是指向元素在链表中的节点的指针。\n",
    "此外，OrderedDict还维护了两个指针：_root指向链表的第一个节点，_last指向链表的最后一个节点。\n",
    "\n",
    "2. 当一个元素被添加到OrderedDict中时，它会被封装成一个节点，并插入到链表的末尾。同时，它的键和指向它的节点的指针会被添加到_map字典中。\n",
    "\n",
    "3. 当一个元素被访问时，OrderedDict会将它对应的节点移动到链表的末尾，从而保持元素的顺序。\n",
    "\n",
    "4. 当一个元素被弹出时，它对应的节点会从链表中移除，并从_map字典中删除。\n",
    "\n",
    "由于OrderedDict底层使用了双向链表，所以它的一些操作，比如弹出最后一个元素和将某个元素移动到末尾，是非常高效的。\n",
    "但是，由于它需要维护额外的指针和链表结构，所以它的空间复杂度比普通的dict要高一些。"
   ],
   "metadata": {
    "collapsed": false
   }
  },
  {
   "cell_type": "code",
   "execution_count": null,
   "outputs": [],
   "source": [
    "# 以下是Python标准库中collections模块中OrderedDict类的部分源代码，供你参考\n",
    "class OrderedDict(dict):\n",
    "    # 一个名为 Node 的内部类，用于封装键值对和指向前一个节点和后一个节点的指针\n",
    "    class Node(object):\n",
    "        __slots__ = 'prev', 'next', 'key', 'value'\n",
    "\n",
    "        def __init__(self, prev, next, key, value):\n",
    "            self.prev = prev\n",
    "            self.next = next\n",
    "            self.key = key\n",
    "            self.value = value\n",
    "\n",
    "    # 初始化方法，用于创建一个空的 OrderedDict\n",
    "    def __init__(self, *args, **kwds):\n",
    "        \"\"\"Initialize an ordered dictionary.  Signature is the same as\n",
    "        regular dictionaries, but keyword arguments are not recommended\n",
    "        because their insertion order is arbitrary.\n",
    "        \"\"\"\n",
    "        if len(args) > 1:\n",
    "            raise TypeError('expected at most 1 arguments, got %d' % len(args))\n",
    "        try:\n",
    "            self.__root\n",
    "        except AttributeError:\n",
    "            self.__root = root = self.Node(None, None, None, None)\n",
    "            root.prev = root.next = root\n",
    "            self.__map = {}\n",
    "        self.__update(*args, **kwds)\n",
    "\n",
    "    # 内部方法，用于将一个节点插入到链表的末尾\n",
    "    def __setitem__(self, key, value, dict_setitem=dict.__setitem__):\n",
    "        # 如果字典中已经存在这个键，则将对应的节点移动到链表的末尾\n",
    "        if key in self:\n",
    "            self.__map[key].value = value\n",
    "        # 否则，将这个键值对封装成一个节点，插入到链表的末尾，并将键和指针添加到 __map 字典中\n",
    "        else:\n",
    "            root = self.__root\n",
    "            last = root.prev\n",
    "            last.next = last.prev = self.__map[key] = self.Node(last, root, key, value)\n",
    "        dict_setitem(self, key, value)\n",
    "\n",
    "    # 内部方法，用于从字典中删除一个键值对，并从链表中移除对应的节点\n",
    "    def __delitem__(self, key, dict_delitem=dict.__delitem__):\n",
    "        # 如果字典中不存在这个键，则抛出 KeyError 异常\n",
    "        if key not in self:\n",
    "            raise KeyError(key)\n",
    "        # 否则，将对应的节点从链表中移除，并从 __map 字典中删除键和指针\n",
    "        node = self.__map.pop(key)\n",
    "        node.prev.next = node.next\n",
    "        node.next.prev = node.prev\n",
    "        dict_delitem(self, key)\n",
    "\n",
    "    # 内部方法，用于将一个字典或键值对序列更新到当前 OrderedDict 中\n",
    "    def __update(self, *args, **kwds):\n",
    "        # 如果参数为一个字典，则将它的键值对一个一个添加到当前字典中\n",
    "        if len(args) > 1:\n",
    "            raise TypeError('expected at most 1 arguments, got %d' % len(args))\n",
    "        elif args:\n",
    "            other = args[0]\n",
    "            if isinstance(other, Mapping):\n",
    "                for key in other:\n",
    "                    self[key] = other[key]\n",
    "            else:\n",
    "                for key, value in other:\n",
    "                    self[key] = value\n",
    "        # 将关键字参数一个一个添加到当前字典中\n",
    "        for key, value in kwds.items():\n",
    "            self[key] = value\n",
    "\n",
    "    # 内部\n"
   ],
   "metadata": {
    "collapsed": false
   }
  },
  {
   "cell_type": "markdown",
   "source": [
    "## 常用方法示例\n",
    "popitem(last=True)\n",
    "弹出并返回字典中最后一个添加的键值对。如果last参数为False，则弹出第一个添加的键值对。"
   ],
   "metadata": {
    "collapsed": false
   }
  },
  {
   "cell_type": "code",
   "execution_count": 2,
   "outputs": [
    {
     "name": "stdout",
     "output_type": "stream",
     "text": [
      "c 3\n"
     ]
    }
   ],
   "source": [
    "from collections import OrderedDict\n",
    "\n",
    "od = OrderedDict([('a', 1), ('b', 2), ('c', 3)])\n",
    "\n",
    "key, value = od.popitem()  # 弹出最后一个键值对\n",
    "print(key, value)  # 输出 c 3\n"
   ],
   "metadata": {
    "collapsed": false
   }
  },
  {
   "cell_type": "markdown",
   "source": [
    "move_to_end(key, last=True)\n",
    "将指定键的元素移动到字典的末尾。如果last参数为False，则将其移动到字典的开头。"
   ],
   "metadata": {
    "collapsed": false
   }
  },
  {
   "cell_type": "code",
   "execution_count": 4,
   "outputs": [
    {
     "name": "stdout",
     "output_type": "stream",
     "text": [
      "['b', 'c', 'a']\n"
     ]
    }
   ],
   "source": [
    "from collections import OrderedDict\n",
    "\n",
    "od = OrderedDict([('a', 1), ('b', 2), ('c', 3)])\n",
    "\n",
    "od.move_to_end('a')  # 将键为 'a' 的元素移动到末尾\n",
    "print(list(od.keys()))  # 输出 ['b', 'c', 'a']\n"
   ],
   "metadata": {
    "collapsed": false
   }
  },
  {
   "cell_type": "markdown",
   "source": [
    "clear()\n",
    "清空字典中的所有元素。\n",
    "\n",
    "update()\n",
    "使用另一个字典或键值对序列更新当前字典。"
   ],
   "metadata": {
    "collapsed": false
   }
  },
  {
   "cell_type": "code",
   "execution_count": 6,
   "outputs": [
    {
     "name": "stdout",
     "output_type": "stream",
     "text": [
      "OrderedDict()\n",
      "OrderedDict([('a', 1), ('b', 2), ('c', 3), ('d', 4)])\n"
     ]
    }
   ],
   "source": [
    "from collections import OrderedDict\n",
    "\n",
    "od = OrderedDict([('a', 1), ('b', 2), ('c', 3)])\n",
    "\n",
    "od.clear()  # 清空字典\n",
    "print(od)  # 输出 OrderedDict()\n",
    "\n",
    "od1 = OrderedDict([('a', 1), ('b', 2)])\n",
    "od2 = OrderedDict([('c', 3), ('d', 4)])\n",
    "\n",
    "od1.update(od2)  # 将 od2 合并到 od1 中\n",
    "print(od1)  # 输出 OrderedDict([('a', 1), ('b', 2), ('c', 3), ('d', 4)])\n"
   ],
   "metadata": {
    "collapsed": false
   }
  },
  {
   "cell_type": "markdown",
   "source": [
    " ## `collections.OrderedDict`  和  `sortedcontainers.SortedDict` 的区别\n",
    " 都是用于有序字典的数据结构，它们之间有以下区别：\n",
    " 1. 实现方式： `collections.OrderedDict`  是Python标准库中的一个类，它使用了双向链表和哈希表来实现有序字典。而  `sortedcontainers.SortedDict`  是一个第三方库  `sortedcontainers`  中的类，它使用了平衡二叉搜索树（红黑树）来实现有序字典。\n",
    " 2. 性能：由于底层实现的不同， `collections.OrderedDict`  的插入、删除和查找操作的时间复杂度是O(1)，而  `sortedcontainers.SortedDict`  的插入、删除和查找操作的时间复杂度是O(log n)。在大多数情况下， `collections.OrderedDict`  的性能更好，但是当需要频繁进行范围查询、迭代和排序操作时， `sortedcontainers.SortedDict`  的性能更好。\n",
    " 3. 功能： `collections.OrderedDict`  提供了一些额外的功能，比如  `popitem(last=True)`  方法可以按照插入顺序删除最后一个键值对，而  `sortedcontainers.SortedDict`  则提供了一些额外的方法，比如  `bisect_left(key)`  方法可以返回键在有序字典中的插入位置。\n",
    " 综上所述，如果你只需要简单的有序字典，并且对性能要求较高，可以使用  `collections.OrderedDict` 。如果你需要频繁进行范围查询、迭代和排序操作，并且对性能要求适中，可以考虑使用  `sortedcontainers.SortedDict` 。"
   ],
   "metadata": {
    "collapsed": false
   }
  },
  {
   "cell_type": "markdown",
   "source": [
    "# namedTuple\n",
    "1. namedtuple是一个函数，它可以用来创建具有命名字段的元组。\n",
    "2. 与普通元组不同，命名元组中的每个字段都有一个可读的名称，可以通过这个名称来访问元组中的值。\n",
    "3. 这使得命名元组比普通元组更易于阅读和维护\n",
    "\n",
    "以下是一个namedtuple的例子："
   ],
   "metadata": {
    "collapsed": false
   }
  },
  {
   "cell_type": "code",
   "execution_count": 8,
   "outputs": [
    {
     "name": "stdout",
     "output_type": "stream",
     "text": [
      "1\n",
      "2\n"
     ]
    }
   ],
   "source": [
    "from collections import namedtuple\n",
    "\n",
    "# 创建一个名为 Point 的命名元组\n",
    "Point = namedtuple('Point', ['x', 'y'])\n",
    "\n",
    "# 创建一个 Point 对象\n",
    "p = Point(1, 2)\n",
    "\n",
    "# 访问 Point 对象的 x 和 y 字段\n",
    "print(p.x)  # 输出 1\n",
    "print(p.y)  # 输出 2\n"
   ],
   "metadata": {
    "collapsed": false
   }
  },
  {
   "cell_type": "markdown",
   "source": [
    "## 注意点\n",
    "在这个例子中，namedtuple函数接受两个参数：元组的名称（在这个例子中是Point），以及元组中的字段名称列表（在这个例子中是['x', 'y']）。\n",
    "namedtuple函数返回一个新的类，这个类可以用来创建具有指定字段的元组。\n",
    "\n",
    "注意，与普通的元组一样，命名元组是不可变的。\n",
    "这意味着一旦创建了一个命名元组，就不能修改它的值。\n",
    "如果你需要修改命名元组的值，可以使用_replace()方法创建一个新的命名元组。"
   ],
   "metadata": {
    "collapsed": false
   }
  },
  {
   "cell_type": "code",
   "execution_count": 10,
   "outputs": [
    {
     "name": "stdout",
     "output_type": "stream",
     "text": [
      "{'x': 1, 'y': 2}\n"
     ]
    }
   ],
   "source": [
    "# 以下是namedtuple的一些常见的抽象方法：\n",
    "#\n",
    "# _asdict()\n",
    "# 将命名元组转换为一个有序字典。\n",
    "from collections import namedtuple\n",
    "\n",
    "Point = namedtuple('Point', ['x', 'y'])\n",
    "\n",
    "p = Point(1, 2)\n",
    "d = p._asdict()\n",
    "\n",
    "print(d)  # 输出 OrderedDict([('x', 1), ('y', 2)])"
   ],
   "metadata": {
    "collapsed": false
   }
  },
  {
   "cell_type": "code",
   "execution_count": 12,
   "outputs": [
    {
     "name": "stdout",
     "output_type": "stream",
     "text": [
      "Point(x=1, y=2)\n",
      "Point(x=3, y=2)\n"
     ]
    }
   ],
   "source": [
    "# _replace(**kwargs)\n",
    "# 创建一个新的命名元组，其中指定的参数将被替换为新的值。\n",
    "from collections import namedtuple\n",
    "\n",
    "Point = namedtuple('Point', ['x', 'y'])\n",
    "\n",
    "p1 = Point(1, 2)\n",
    "p2 = p1._replace(x=3)\n",
    "\n",
    "print(p1)  # 输出 Point(x=1, y=2)\n",
    "print(p2)  # 输出 Point(x=3, y=2)\n"
   ],
   "metadata": {
    "collapsed": false
   }
  },
  {
   "cell_type": "code",
   "execution_count": 14,
   "outputs": [
    {
     "name": "stdout",
     "output_type": "stream",
     "text": [
      "('x', 'y')\n"
     ]
    }
   ],
   "source": [
    "# _fields\n",
    "# 元组的字段名称列表。\n",
    "from collections import namedtuple\n",
    "\n",
    "Point = namedtuple('Point', ['x', 'y'])\n",
    "\n",
    "print(Point._fields)  # 输出 ['x', 'y']\n"
   ],
   "metadata": {
    "collapsed": false
   }
  },
  {
   "cell_type": "code",
   "execution_count": 15,
   "outputs": [
    {
     "name": "stdout",
     "output_type": "stream",
     "text": [
      "Point(x=1, y=2)\n"
     ]
    }
   ],
   "source": [
    "# _make(iterable)\n",
    "# 使用可迭代对象中的值创建一个新的命名元组。\n",
    "from collections import namedtuple\n",
    "\n",
    "Point = namedtuple('Point', ['x', 'y'])\n",
    "\n",
    "lst = [1, 2]\n",
    "p = Point._make(lst)\n",
    "\n",
    "print(p)  # 输出 Point(x=1, y=2)\n"
   ],
   "metadata": {
    "collapsed": false
   }
  }
 ],
 "metadata": {
  "kernelspec": {
   "display_name": "Python 3",
   "language": "python",
   "name": "python3"
  },
  "language_info": {
   "codemirror_mode": {
    "name": "ipython",
    "version": 2
   },
   "file_extension": ".py",
   "mimetype": "text/x-python",
   "name": "python",
   "nbconvert_exporter": "python",
   "pygments_lexer": "ipython2",
   "version": "2.7.6"
  }
 },
 "nbformat": 4,
 "nbformat_minor": 0
}
