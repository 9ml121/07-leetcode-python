{
 "cells": [
  {
   "cell_type": "code",
   "execution_count": null,
   "outputs": [],
   "source": [
    "from IPython.core.interactiveshell import InteractiveShell\n",
    "InteractiveShell.ast_node_interactivity = 'all'"
   ],
   "metadata": {
    "collapsed": false
   }
  },
  {
   "cell_type": "markdown",
   "source": [
    "# 1.class SortedDict(dict)\n",
    "    \"\"\"Sorted dict is a sorted mutable mapping.\n",
    "\n",
    "    Sorted dict keys are maintained in sorted order. The design of sorted dict\n",
    "    is simple: sorted dict inherits from dict to store items and maintains a\n",
    "    sorted list of keys.\n",
    "\n",
    "    Sorted dict keys must be hashable and comparable. The hash and total\n",
    "    ordering of keys must not change while they are stored in the sorted dict.\n",
    "\n",
    "    Mutable mapping methods:\n",
    "\n",
    "    * :func:`SortedDict.__getitem__` (inherited from dict)\n",
    "    * :func:`SortedDict.__setitem__`\n",
    "    * :func:`SortedDict.__delitem__`\n",
    "    * :func:`SortedDict.__iter__`\n",
    "    * :func:`SortedDict.__len__` (inherited from dict)\n",
    "\n",
    "    Methods for adding items:\n",
    "\n",
    "    * :func:`SortedDict.setdefault`\n",
    "    * :func:`SortedDict.update`\n",
    "\n",
    "    Methods for removing items:\n",
    "\n",
    "    * :func:`SortedDict.clear`\n",
    "    * :func:`SortedDict.pop`\n",
    "    * :func:`SortedDict.popitem`\n",
    "\n",
    "    Methods for looking up items:\n",
    "\n",
    "    * :func:`SortedDict.__contains__` (inherited from dict)\n",
    "    * :func:`SortedDict.get` (inherited from dict)\n",
    "    * :func:`SortedDict.peekitem`\n",
    "\n",
    "    Methods for views:\n",
    "\n",
    "    * :func:`SortedDict.keys`\n",
    "    * :func:`SortedDict.items`\n",
    "    * :func:`SortedDict.values`\n",
    "\n",
    "    Methods for miscellany:\n",
    "\n",
    "    * :func:`SortedDict.copy`\n",
    "    * :func:`SortedDict.fromkeys`\n",
    "    * :func:`SortedDict.__reversed__`\n",
    "    * :func:`SortedDict.__eq__` (inherited from dict)\n",
    "    * :func:`SortedDict.__ne__` (inherited from dict)\n",
    "    * :func:`SortedDict.__repr__`\n",
    "    * :func:`SortedDict._check`\n",
    "\n",
    "    Sorted list methods available (applies to keys):\n",
    "\n",
    "    * :func:`SortedList.bisect_left`\n",
    "    * :func:`SortedList.bisect_right`\n",
    "    * :func:`SortedList.count`\n",
    "    * :func:`SortedList.index`\n",
    "    * :func:`SortedList.irange`\n",
    "    * :func:`SortedList.islice`\n",
    "    * :func:`SortedList._reset`\n",
    "\n",
    "    Additional sorted list methods available, if key-function used:\n",
    "\n",
    "    * :func:`SortedKeyList.bisect_key_left`\n",
    "    * :func:`SortedKeyList.bisect_key_right`\n",
    "    * :func:`SortedKeyList.irange_key`\n",
    "\n",
    "    Sorted dicts may only be compared for equality and inequality.\n"
   ],
   "metadata": {
    "collapsed": false
   }
  },
  {
   "cell_type": "markdown",
   "source": [
    "sortedcontainers.SortedDict 使用的基本数据结构是平衡二叉搜索树（Balanced Binary Search Tree），具体来说是红黑树（Red-Black Tree）。\n",
    "\n",
    "红黑树是一种自平衡的二叉搜索树，它通过在每个节点上添加额外的颜色属性来保持平衡。红黑树满足以下性质：\n",
    "1. 每个节点要么是红色，要么是黑色。\n",
    "2. 根节点是黑色的。\n",
    "3. 每个叶子节点（NIL节点，空节点）是黑色的。\n",
    "4. 如果一个节点是红色的，则它的两个子节点都是黑色的。\n",
    "5. 对于每个节点，从该节点到其所有后代叶子节点的简单路径上，均包含相同数目的黑色节点。\n",
    "\n",
    "红黑树的自平衡操作包括：\n",
    "- 插入节点时的旋转和重新着色，以及删除节点时的旋转和重新着色。\n",
    "- 这些操作保持了红黑树的平衡性，使得树的高度保持在O(log n)的范围内，从而保证了插入、删除和查找操作的时间复杂度为O(log n)。\n",
    "\n",
    " sortedcontainers.SortedDict 使用红黑树作为底层数据结构来实现有序字典。\n",
    " - 它通过在红黑树中存储键值对，并根据键来进行排序和查找操作。\n",
    "  - 红黑树的特性使得 sortedcontainers.SortedDict 能够高效地支持有序字典的插入、删除、查找和范围查询等操作。\n",
    "\n",
    "总结起来， sortedcontainers.SortedDict 使用红黑树作为底层数据结构来实现有序字典，通过红黑树的自平衡性质保持树的平衡，并提供高效的插入、删除和查找操作。"
   ],
   "metadata": {
    "collapsed": false
   }
  },
  {
   "cell_type": "markdown",
   "source": [
    "以上示例展示了 sortedcontainers.SortedDict 的基本用法，包括\n",
    "- 创建有序字典、\n",
    "- 添加键值对、\n",
    "- 获取值、\n",
    "- 删除键值对、\n",
    "- 判断键是否存在、\n",
    "- 获取键列表、\n",
    "- 获取值列表、\n",
    "- 获取键值对列表、\n",
    "- 清空字典\n",
    "- 以及判断字典是否为空等操作。"
   ],
   "metadata": {
    "collapsed": false
   }
  },
  {
   "cell_type": "code",
   "execution_count": 1,
   "outputs": [
    {
     "name": "stdout",
     "output_type": "stream",
     "text": [
      "SortedDict({1: 'banana', 2: 'orange', 3: 'apple'})\n",
      "orange\n",
      "True\n",
      "False\n",
      "SortedKeysView(SortedDict({2: 'orange', 3: 'apple'}))\n",
      "SortedValuesView(SortedDict({2: 'orange', 3: 'apple'}))\n",
      "SortedItemsView(SortedDict({2: 'orange', 3: 'apple'}))\n",
      "True\n"
     ]
    }
   ],
   "source": [
    "from sortedcontainers import SortedDict\n",
    "\n",
    "# 创建一个空的有序字典\n",
    "sd = SortedDict()\n",
    "# 添加键值对\n",
    "sd[3] = 'apple'\n",
    "sd[1] = 'banana'\n",
    "sd[2] = 'orange'\n",
    "# 打印有序字典的内容\n",
    "print(sd)  # SortedDict({1: 'banana', 2: 'orange', 3: 'apple'})\n",
    "# 通过键获取值\n",
    "print(sd[2])  # orange\n",
    "# 删除键值对\n",
    "del sd[1]\n",
    "# 判断键是否存在\n",
    "print(2 in sd)  # True\n",
    "print(1 in sd)  # False\n",
    "# 获取有序字典的键列表\n",
    "keys = sd.keys()\n",
    "print(keys)  # [2, 3]\n",
    "# 获取有序字典的值列表\n",
    "values = sd.values()\n",
    "print(values)  # ['orange', 'apple']\n",
    "# 获取有序字典的键值对列表\n",
    "items = sd.items()\n",
    "print(items)  # [(2, 'orange'), (3, 'apple')]\n",
    "# 清空有序字典\n",
    "sd.clear()\n",
    "# 判断有序字典是否为空\n",
    "print(len(sd) == 0)  # True"
   ],
   "metadata": {
    "collapsed": false
   }
  },
  {
   "cell_type": "markdown",
   "source": [
    "除了上面列举的示例中的常用方法， `sortedcontainers.SortedDict` 还提供了其他一些常用的抽象方法，包括：\n",
    "1.  `popitem(last=True)` ：删除并返回最后一个键值对（默认）或第一个键值对（如果 `last=False` ）。\n",
    "2.  `setdefault(key, default=None)` ：如果键存在于字典中，则返回对应的值；如果键不存在，则将键和默认值插入到字典中，并返回默认值。\n",
    "3.  `update(other_dict)` ：将另一个字典或可迭代对象中的键值对更新到当前字典中。\n",
    "4.  `keys()` ：返回一个包含字典所有键的有序列表。\n",
    "5.  `values()` ：返回一个包含字典所有值的有序列表。\n",
    "6.  `items()` ：返回一个包含字典所有键值对的有序列表。\n",
    "7.  `clear()` ：清空字典，删除所有键值对。\n",
    "8.  `copy()` ：创建并返回字典的浅拷贝。\n",
    "9.  `fromkeys(iterable, value=None)` ：使用可迭代对象中的元素作为键，创建一个新的有序字典，并将所有键的值设置为指定的值。\n",
    "10.  `get(key, default=None)` ：返回指定键的值，如果键不存在，则返回默认值。\n",
    "11.  `pop(key, default=None)` ：删除并返回指定键的值，如果键不存在，则返回默认值。\n",
    "12.  `items_between(start, end, inclusive=(True, True))` ：返回位于指定范围内的键值对的迭代器。范围可以是开区间、闭区间或半开半闭区间。\n",
    "\n",
    "13. 这些抽象方法提供了更多的灵活性和功能，可以根据具体的需求来操作和处理 `sortedcontainers.SortedDict` 对象。"
   ],
   "metadata": {
    "collapsed": false
   }
  }
 ],
 "metadata": {
  "kernelspec": {
   "display_name": "Python 3",
   "language": "python",
   "name": "python3"
  },
  "language_info": {
   "codemirror_mode": {
    "name": "ipython",
    "version": 2
   },
   "file_extension": ".py",
   "mimetype": "text/x-python",
   "name": "python",
   "nbconvert_exporter": "python",
   "pygments_lexer": "ipython2",
   "version": "2.7.6"
  }
 },
 "nbformat": 4,
 "nbformat_minor": 0
}
