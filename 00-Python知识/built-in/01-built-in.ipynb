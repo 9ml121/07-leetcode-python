{
 "cells": [
  {
   "cell_type": "code",
   "execution_count": 2,
   "metadata": {
    "collapsed": true
   },
   "outputs": [],
   "source": [
    "from IPython.core.interactiveshell import InteractiveShell\n",
    "\n",
    "InteractiveShell.ast_node_interactivity = 'all'"
   ]
  },
  {
   "cell_type": "markdown",
   "source": [
    "# 生成器和迭代器\n",
    "- 生成器和迭代器是 Python 中用于处理序列数据的重要工具。\n",
    "- 它们都可以在需要时逐个产生序列中的元素，而不需要提前将整个序列存储在内存中。\n",
    "\n",
    "## 生成器表达式\n",
    "- 生成器表达式是一种用于创建生成器的简洁语法。\n",
    "- 它类似于列表推导式，但是使用圆括号而不是方括号。\n",
    "\n",
    "1. 生成器表达式可以避免创建一个额外的列表，从而节省空间。\n",
    "2. 同时，它也可以实现惰性计算，只有在需要时才会计算元素，从而提高效率。\n",
    "\n",
    "\n",
    "## 迭代器表达式\n",
    "- 迭代器表达式是一种用于创建迭代器的简洁语法。\n",
    "- 它类似于生成器表达式，但是使用方括号而不是圆括号。\n",
    "\n",
    "1. 迭代器表达式的好处是它可以在需要时动态地生成元素，而不需要提前计算整个序列。这样可以节省内存空间，\n",
    "2. 并且可以在处理大量数据时提高效率。\n",
    "3. 与生成器表达式不同的是，迭代器表达式创建的是一个列表，需要将其转换为迭代器才能使用。\n"
   ],
   "metadata": {
    "collapsed": false
   }
  },
  {
   "cell_type": "code",
   "execution_count": 10,
   "outputs": [
    {
     "data": {
      "text/plain": "<generator object <genexpr> at 0x00000144E7B093C0>"
     },
     "execution_count": 10,
     "metadata": {},
     "output_type": "execute_result"
    },
    {
     "name": "stdout",
     "output_type": "stream",
     "text": [
      "0\n",
      "1\n",
      "4\n"
     ]
    },
    {
     "data": {
      "text/plain": "<generator object <genexpr> at 0x00000144E7B09900>"
     },
     "execution_count": 10,
     "metadata": {},
     "output_type": "execute_result"
    },
    {
     "data": {
      "text/plain": "3"
     },
     "execution_count": 10,
     "metadata": {},
     "output_type": "execute_result"
    },
    {
     "name": "stdout",
     "output_type": "stream",
     "text": [
      "[1, 2, 5, 8, 13, 18, 25, 32, 41, 50]\n"
     ]
    }
   ],
   "source": [
    "# 生成器案例\n",
    "# 这个表达式将创建一个生成器，用于产生从 0 到 9 的整数的平方。\n",
    "gen = (x ** 2 for x in range(10))\n",
    "gen  # <generator object <genexpr> at 0x00000144E7B09200>\n",
    "# 可以使用  next()  函数逐个获取生成器中的元素\n",
    "print(next(gen))  # 输出 0\n",
    "print(next(gen))  # 输出 1\n",
    "print(next(gen))  # 输出 4\n",
    "\n",
    "# 计算数组  nums  中小于等于  mid  的元素个数。\n",
    "nums = [1, 2, 3, 4, 5]\n",
    "gen = (1 for num in nums if num <= 3)\n",
    "gen  # <generator object <genexpr> at 0x00000144E7B09270>\n",
    "cnt = sum(gen)\n",
    "cnt  # 3\n",
    "\n",
    "# 下面的代码将创建一个生成器，用于生成 1 到 10 的平方，如果平方是偶数，则将其除以 2，否则将其加 1 再除以 2：\n",
    "gen = ((x ** 2 // 2) if x ** 2 % 2 == 0 else ((x ** 2 + 1) // 2) for x in range(1, 11))\n",
    "print(list(gen))  # 输出 [1, 2, 5, 8, 13, 18, 25, 32, 41, 50]"
   ],
   "metadata": {
    "collapsed": false
   }
  },
  {
   "cell_type": "code",
   "execution_count": 5,
   "outputs": [
    {
     "name": "stdout",
     "output_type": "stream",
     "text": [
      "0\n",
      "1\n",
      "4\n"
     ]
    }
   ],
   "source": [
    "it = [x ** 2 for x in range(10)]\n",
    "# 这个表达式将创建一个列表，其中包含从 0 到 9 的整数的平方。\n",
    "# 可以使用  iter()  函数将列表转换为迭代器，\n",
    "# 并使用  next()  函数逐个获取迭代器中的元素，例如：\n",
    "it = iter(it)\n",
    "print(next(it))  # 输出 0\n",
    "print(next(it))  # 输出 1\n",
    "print(next(it))  # 输出 4"
   ],
   "metadata": {
    "collapsed": false
   }
  },
  {
   "cell_type": "markdown",
   "source": [],
   "metadata": {
    "collapsed": false
   }
  },
  {
   "cell_type": "code",
   "execution_count": 27,
   "outputs": [
    {
     "ename": "SyntaxError",
     "evalue": "invalid syntax (940923293.py, line 1)",
     "output_type": "error",
     "traceback": [
      "\u001B[1;36m  Input \u001B[1;32mIn [27]\u001B[1;36m\u001B[0m\n\u001B[1;33m    print(i) for i in range(3) if i % 2 == 0  else 1\u001B[0m\n\u001B[1;37m             ^\u001B[0m\n\u001B[1;31mSyntaxError\u001B[0m\u001B[1;31m:\u001B[0m invalid syntax\n"
     ]
    }
   ],
   "source": [
    "import heapq\n",
    "\n",
    "nums = [5,2,3,1]\n",
    "minHeap = []\n",
    "for num in nums:\n",
    "   heapq.heappush(minHeap, num)"
   ],
   "metadata": {
    "collapsed": false
   }
  },
  {
   "cell_type": "markdown",
   "source": [
    "# 字典表达式\n",
    "字典表达式是一种简洁的方式来创建字典。它的语法形式为 {key:value for key, value in iterable}，\n",
    "- 其中key表示字典中的键，value表示字典中的值，\n",
    "- iterable是一个可迭代对象。字典表达式可以用于创建字典，也可以用于从一个序列中生成一个新的字典。"
   ],
   "metadata": {
    "collapsed": false
   }
  },
  {
   "cell_type": "code",
   "execution_count": 21,
   "outputs": [
    {
     "name": "stdout",
     "output_type": "stream",
     "text": [
      "{1: 4, 2: 3, 3: 2, 4: 1}\n",
      "{1: 1, 2: 4, 3: 9, 4: 16, 5: 25}\n",
      "{'h': 1, 'e': 1, 'l': 3, 'o': 2, ',': 1, ' ': 1, 'w': 1, 'r': 1, 'd': 1, '!': 1}\n",
      "{'h': 0, 'e': 1, 'l': 8, 'o': 6, 'w': 5, 'r': 7, 'd': 9}\n"
     ]
    }
   ],
   "source": [
    "# 1. 从一个列表中生成一个新的字典，其中键为列表中的元素，值为元素在列表中的出现次数：\n",
    "lst = [1, 2, 3, 4, 1, 2, 3, 1, 2, 1]\n",
    "d = {i: lst.count(i) for i in lst}\n",
    "print(d)  # 输出结果为：{1: 4, 2: 3, 3: 2, 4: 1}\n",
    "\n",
    "# 2. 创建一个字典，其中键为1到5的整数，值为这些整数的平方：\n",
    "d = {i: i ** 2 for i in range(1, 6)}\n",
    "print(d)  # 输出结果为：{1: 1, 2: 4, 3: 9, 4: 16, 5: 25}\n",
    "\n",
    "# 3. 从一个字符串中生成一个新的字典，其中键为字符串中的字符，值为字符在字符串中的出现次数：\n",
    "s = 'hello, world!'\n",
    "d = {c: s.count(c) for c in s}\n",
    "print(d)\n",
    "\n",
    "# 4.从一个字符串中生成一个新的字典，其中键为字符串中的字符，值为字符在字符串中最后一次出现的索引：\n",
    "s = 'helloworld'\n",
    "lastIndex = {ch: i for i, ch in enumerate(s)}\n",
    "print(lastIndex)  # {'h': 0, 'e': 1, 'l': 8, 'o': 6, 'w': 5, 'r': 7, 'd': 9}"
   ],
   "metadata": {
    "collapsed": false
   }
  },
  {
   "cell_type": "markdown",
   "source": [
    "## 要删除字典中的一个键值对，可以使用del关键字或者使用pop()方法。\n",
    "1. 使用del关键字的语法如下：\n",
    "   - del my_dict[key]\n",
    "   - 这将从my_dict字典中删除键为key的键值对。\n",
    "2. 使用pop()方法的语法如下：\n",
    "   - my_dict.pop(key)\n",
    "   - 这将删除并返回字典my_dict中键为key的值。\n",
    "   - 需要注意的是，如果使用pop()方法删除一个不存在的键，会引发KeyError异常。\n",
    "   - 所以在使用pop()方法时，可以提供一个默认值作为参数，以避免异常的发生：\n",
    "      - my_dict.pop(key, default_value)\n",
    "      - 如果键key不存在于字典my_dict中，则返回默认值default_value。"
   ],
   "metadata": {
    "collapsed": false
   }
  },
  {
   "cell_type": "markdown",
   "source": [
    "# map函数 和 filter函数\n",
    "区别是filter function会被视为一个过滤器，\n",
    "而map function会视为一个处理器。"
   ],
   "metadata": {
    "collapsed": false
   }
  },
  {
   "cell_type": "code",
   "execution_count": 24,
   "outputs": [
    {
     "name": "stdout",
     "output_type": "stream",
     "text": [
      "1234\n",
      "1234\n",
      "1234\n"
     ]
    }
   ],
   "source": [
    "# 将数值列表转换为数值\n",
    "s = [1,2,3,4]\n",
    "ans = 0\n",
    "for num in s:\n",
    "   ans = ans * 10 + num\n",
    "print(ans)\n",
    "\n",
    "# 写法2\n",
    "ans = int(''.join(str(num) for num in s))\n",
    "print(ans)\n",
    "\n",
    "# 写法3\n",
    "ans = int(''.join(map(str, s)))\n",
    "print(ans)"
   ],
   "metadata": {
    "collapsed": false
   }
  },
  {
   "cell_type": "markdown",
   "source": [
    "## filter函数\n",
    "- filter() 函数是 Python 内置的高阶函数，用于根据指定条件过滤序列（可迭代对象）中的元素。\n",
    "- 它接受两个参数：一个函数和一个序列。函数通过判断序列中的每个元素，并返回 True 或 False，来决定是否保留该元素。\n",
    "\n",
    "filter() 函数的语法如下：\n",
    "filter(function, iterable)\n",
    "\n",
    "参数说明：\n",
    "\n",
    "- function：用于过滤元素的函数，可以是内置函数、自定义函数或匿名函数。该函数接受一个参数，并返回布尔值。\n",
    "- iterable：要过滤的序列，可以是列表、元组、集合、字符串或其他可迭代对象。\n",
    "- filter() 函数的返回值是一个迭代器（Python 3），它包含满足条件的元素。\n"
   ],
   "metadata": {
    "collapsed": false
   }
  },
  {
   "cell_type": "code",
   "execution_count": 1,
   "outputs": [
    {
     "name": "stdout",
     "output_type": "stream",
     "text": [
      "[2, 4, 6, 8, 10]\n"
     ]
    }
   ],
   "source": [
    "# 1. 过滤列表中的偶数：\n",
    "numbers = [1, 2, 3, 4, 5, 6, 7, 8, 9, 10]\n",
    "\n",
    "def is_even(num):\n",
    "    return num % 2 == 0\n",
    "\n",
    "result = filter(is_even, numbers)\n",
    "even_numbers = list(result)\n",
    "print(even_numbers)  # 输出：[2, 4, 6, 8, 10]\n",
    "\n",
    "# 2.过滤字符串中的大写字母：\n",
    "text = \"Hello World\"\n",
    "\n",
    "def is_uppercase(char):\n",
    "    return char.isupper()\n",
    "\n",
    "result = filter(is_uppercase, text)\n",
    "uppercase_chars = list(result)\n",
    "print(uppercase_chars)  # 输出：['H', 'W']\n",
    "\n",
    "# 3.使用匿名函数过滤列表中的负数：\n",
    "numbers = [1, -2, 3, -4, 5, -6, 7, -8, 9, -10]\n",
    "\n",
    "result = filter(lambda x: x < 0, numbers)\n",
    "negative_numbers = list(result)\n",
    "print(negative_numbers)  # 输出：[-2, -4, -6, -8, -10]\n",
    "\n",
    "# 在以上示例中，filter() 函数根据传入的条件函数对序列中的元素进行过滤，只保留满足条件的元素。\n",
    "# 最后，使用 list() 函数将过滤后的迭代器转换为列表，以便查看过滤结果。\n",
    "\n",
    "# 需要注意的是，Python 3 中的 filter() 函数返回一个迭代器，而不是列表。\n",
    "# 如果需要立即获取结果列表，需要使用 list() 函数将迭代器转换为列表。"
   ],
   "metadata": {
    "collapsed": false
   }
  },
  {
   "cell_type": "markdown",
   "source": [
    "# python表示最大整数，最大浮点值\n",
    "> 表示最小极值就在前面加负号"
   ],
   "metadata": {
    "collapsed": false
   }
  },
  {
   "cell_type": "code",
   "execution_count": 1,
   "outputs": [
    {
     "name": "stdout",
     "output_type": "stream",
     "text": [
      "inf\n",
      "inf\n",
      "-inf\n",
      "-inf\n",
      "9223372036854775807\n",
      "-9223372036854775807\n"
     ]
    }
   ],
   "source": [
    "import sys\n",
    "from math import inf\n",
    "\n",
    "print(inf)\n",
    "print(float('inf'))\n",
    "print(-float('inf'))\n",
    "print(float('-inf'))\n",
    "print(sys.maxsize)\n",
    "print(-sys.maxsize)"
   ],
   "metadata": {
    "collapsed": false
   }
  },
  {
   "cell_type": "markdown",
   "source": [
    "# set集合\n",
    "- 在Python中，set是一种无序且不重复的集合数据类型\n",
    "- set中的元素没有固定的顺序，并且每个元素都是唯一的。"
   ],
   "metadata": {
    "collapsed": false
   }
  },
  {
   "cell_type": "markdown",
   "source": [
    "## 常用方法\n",
    "1. union(*others)\n",
    "   - 返回一个新集合，其中包含来自原集合以及 others 指定的所有集合中的元素\n",
    "2. discard(elem)\n",
    "   - 如果元素 elem 存在于集合中则将其移除。\n",
    "   - remove() 和 discard() 方法的 elem 参数可能是一个 set\n",
    "3. update(*others)\n",
    "   - 更新集合，添加来自 others 中的所有元素。\n",
    "4. isdisjoint(other)\n",
    "   - 如果集合中没有与 other 共有的元素则返回 True。 当且仅当两个集合的交集为空集合时，两者为不相交集合。\n",
    "5. pop()\n",
    "   - 从集合中移除并返回任意一个元素。 如果集合为空则会引发\n",
    "   - 但由于set是无序的，因此无法确定返回的是哪个元素。"
   ],
   "metadata": {
    "collapsed": false
   }
  },
  {
   "cell_type": "code",
   "execution_count": 15,
   "outputs": [
    {
     "data": {
      "text/plain": "{1, 2, 3, 4}"
     },
     "execution_count": 15,
     "metadata": {},
     "output_type": "execute_result"
    },
    {
     "data": {
      "text/plain": "1"
     },
     "execution_count": 15,
     "metadata": {},
     "output_type": "execute_result"
    },
    {
     "data": {
      "text/plain": "{2, 3}"
     },
     "execution_count": 15,
     "metadata": {},
     "output_type": "execute_result"
    },
    {
     "data": {
      "text/plain": "1"
     },
     "execution_count": 15,
     "metadata": {},
     "output_type": "execute_result"
    },
    {
     "data": {
      "text/plain": "{2, 4}"
     },
     "execution_count": 15,
     "metadata": {},
     "output_type": "execute_result"
    }
   ],
   "source": [
    "# union合并两个集合\n",
    "s1 = {1, 2, 3}\n",
    "s2 = {4, 2, 1}\n",
    "s1.union(s2)  # {1, 2, 3, 4}\n",
    "\n",
    "s1.pop() # 1\n",
    "s1 # {2, 3}\n",
    "s2.pop() # 1\n",
    "s2 # {2, 4}\n",
    "\n",
    "# discard和update方法\n",
    "a = {1, 2, 3}\n",
    "a.discard(0)  # 不在set中的元素，什么也不做\n",
    "a.remove(0)  # 不在set中，会报错\n",
    "a.update({2, 4})  # 原地更新set {1, 2, 3, 4}\n",
    "b = a.union({2, 4})  # 返回一个新的set {1, 2, 3, 4}\n",
    "b\n",
    "a"
   ],
   "metadata": {
    "collapsed": false
   }
  },
  {
   "cell_type": "markdown",
   "source": [
    "## Python Set isdisjoint() 方法\n",
    "isdisjoint() 方法用于判断两个集合是否包含相同的元素，如果没有返回 True，否则返回 False。。"
   ],
   "metadata": {
    "collapsed": false
   }
  },
  {
   "cell_type": "code",
   "execution_count": 3,
   "outputs": [
    {
     "name": "stdout",
     "output_type": "stream",
     "text": [
      "True\n"
     ]
    }
   ],
   "source": [
    "x = {\"apple\", \"banana\", \"cherry\"}\n",
    "y = {\"google\", \"runoob\", \"facebook\"}\n",
    "\n",
    "z = x.isdisjoint(y)\n",
    "\n",
    "print(z)"
   ],
   "metadata": {
    "collapsed": false
   }
  },
  {
   "cell_type": "code",
   "execution_count": 4,
   "outputs": [
    {
     "name": "stdout",
     "output_type": "stream",
     "text": [
      "False\n"
     ]
    }
   ],
   "source": [
    "x = {\"apple\", \"banana\", \"cherry\"}\n",
    "y = {\"google\", \"runoob\", \"apple\"}\n",
    "\n",
    "z = x.isdisjoint(y)\n",
    "\n",
    "print(z)"
   ],
   "metadata": {
    "collapsed": false
   }
  },
  {
   "cell_type": "markdown",
   "source": [
    "# format表达式"
   ],
   "metadata": {
    "collapsed": false
   }
  },
  {
   "cell_type": "code",
   "execution_count": 4,
   "outputs": [
    {
     "data": {
      "text/plain": "'2-3'"
     },
     "execution_count": 4,
     "metadata": {},
     "output_type": "execute_result"
    }
   ],
   "source": [
    "x = 3\n",
    "y = 2\n",
    "s = f'{x}-{y}' if x < y else f'{y}-{x}'\n",
    "s"
   ],
   "metadata": {
    "collapsed": false
   }
  },
  {
   "cell_type": "markdown",
   "source": [
    "# eval函数"
   ],
   "metadata": {
    "collapsed": false
   }
  },
  {
   "cell_type": "code",
   "execution_count": null,
   "outputs": [],
   "source": [
    "s = '64:2,128:1,32:4,1:128'\n",
    "a = eval('{' + s + '}')\n",
    "a\n",
    "type(a)"
   ],
   "metadata": {
    "collapsed": false
   }
  },
  {
   "cell_type": "markdown",
   "source": [
    "# 三元运算符\n",
    "#如果条件为真，返回真 否则返回假\n",
    "condition_is_true if condition else condition_is_false"
   ],
   "metadata": {
    "collapsed": false
   }
  },
  {
   "cell_type": "code",
   "execution_count": 28,
   "outputs": [
    {
     "data": {
      "text/plain": "'fat'"
     },
     "execution_count": 28,
     "metadata": {},
     "output_type": "execute_result"
    },
    {
     "name": "stdout",
     "output_type": "stream",
     "text": [
      "奇数\n"
     ]
    }
   ],
   "source": [
    "is_fat = True\n",
    "# 注意：if表达式一定要有else，否则会报错！！\n",
    "state = \"fat\" if is_fat else \"not fat\"\n",
    "state\n",
    "\n",
    "num = 5\n",
    "result = \"偶数\" if num % 2 == 0 else \"奇数\"\n",
    "print(result)  # 输出\"奇数\""
   ],
   "metadata": {
    "collapsed": false
   }
  },
  {
   "cell_type": "markdown",
   "source": [],
   "metadata": {
    "collapsed": false
   }
  },
  {
   "cell_type": "markdown",
   "source": [
    "# ord函数 和 cha函数\n",
    "python中单个字符可以按照字典序（ASCII）码直接比较大小\n",
    "但是两个字符直接做加减运算还是要用ord函数转换之后才可以"
   ],
   "metadata": {
    "collapsed": false
   }
  },
  {
   "cell_type": "code",
   "execution_count": 12,
   "outputs": [
    {
     "name": "stdout",
     "output_type": "stream",
     "text": [
      "97\n"
     ]
    },
    {
     "data": {
      "text/plain": "1"
     },
     "execution_count": 12,
     "metadata": {},
     "output_type": "execute_result"
    },
    {
     "ename": "AssertionError",
     "evalue": "",
     "output_type": "error",
     "traceback": [
      "\u001B[1;31m---------------------------------------------------------------------------\u001B[0m",
      "\u001B[1;31mAssertionError\u001B[0m                            Traceback (most recent call last)",
      "Input \u001B[1;32mIn [12]\u001B[0m, in \u001B[0;36m<cell line: 5>\u001B[1;34m()\u001B[0m\n\u001B[0;32m      3\u001B[0m \u001B[38;5;28mprint\u001B[39m(\u001B[38;5;28mord\u001B[39m(char))  \u001B[38;5;66;03m# 输出字符'a'对应的ASCII码，97\u001B[39;00m\n\u001B[0;32m      4\u001B[0m \u001B[38;5;28mord\u001B[39m(\u001B[38;5;124m'\u001B[39m\u001B[38;5;124mb\u001B[39m\u001B[38;5;124m'\u001B[39m) \u001B[38;5;241m-\u001B[39m \u001B[38;5;28mord\u001B[39m(\u001B[38;5;124m'\u001B[39m\u001B[38;5;124ma\u001B[39m\u001B[38;5;124m'\u001B[39m) \u001B[38;5;66;03m# 输出-1\u001B[39;00m\n\u001B[1;32m----> 5\u001B[0m \u001B[38;5;28;01massert\u001B[39;00m \u001B[38;5;124m'\u001B[39m\u001B[38;5;124mb\u001B[39m\u001B[38;5;124m'\u001B[39m \u001B[38;5;241m>\u001B[39m \u001B[38;5;124m'\u001B[39m\u001B[38;5;124ma\u001B[39m\u001B[38;5;124m'\u001B[39m \u001B[38;5;241m==\u001B[39m \u001B[38;5;28;01mTrue\u001B[39;00m  \u001B[38;5;66;03m# 输出True\u001B[39;00m\n\u001B[0;32m      6\u001B[0m \u001B[38;5;124m'\u001B[39m\u001B[38;5;124mb\u001B[39m\u001B[38;5;124m'\u001B[39m \u001B[38;5;241m-\u001B[39m \u001B[38;5;124m'\u001B[39m\u001B[38;5;124ma\u001B[39m\u001B[38;5;124m'\u001B[39m\n",
      "\u001B[1;31mAssertionError\u001B[0m: "
     ]
    }
   ],
   "source": [
    "# 将字符转换为ASCII码进行加减运算\n",
    "char = 'a'\n",
    "print(ord(char))  # 输出字符'a'对应的ASCII码，97\n",
    "print(chr(97))  # 输出97对应的字符'a'\n",
    "ord('b') - ord('a')  # 输出-1\n",
    "assert 'b' > 'a' == True  # 输出True\n",
    "'b' - 'a'  # 注意：java代码可以直接加减，但是python不行\n",
    "# int result = 'b' - 'a';\n",
    "# System.out.println(result); // 输出 1"
   ],
   "metadata": {
    "collapsed": false
   }
  }
 ],
 "metadata": {
  "kernelspec": {
   "display_name": "Python 3",
   "language": "python",
   "name": "python3"
  },
  "language_info": {
   "codemirror_mode": {
    "name": "ipython",
    "version": 2
   },
   "file_extension": ".py",
   "mimetype": "text/x-python",
   "name": "python",
   "nbconvert_exporter": "python",
   "pygments_lexer": "ipython2",
   "version": "2.7.6"
  }
 },
 "nbformat": 4,
 "nbformat_minor": 0
}
